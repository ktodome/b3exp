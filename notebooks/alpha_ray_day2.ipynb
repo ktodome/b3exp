{
  "nbformat": 4,
  "nbformat_minor": 0,
  "metadata": {
    "colab": {
      "provenance": []
    },
    "kernelspec": {
      "name": "python3",
      "display_name": "Python 3"
    },
    "language_info": {
      "name": "python"
    }
  },
  "cells": [
    {
      "cell_type": "markdown",
      "source": [
        "# 3. 有意性の推定"
      ],
      "metadata": {
        "id": "ayrJ-wZmPg0E"
      }
    },
    {
      "cell_type": "markdown",
      "source": [
        "測定された散乱事象数は測定に対してどの程度一致したでしょうか？ラザフォード散乱があることを再発見するためには、なるべく大角度での散乱事象を観測することが望ましいです。一方で、予測と大幅に異なる場合はその原因を理解する必要があります。\n",
        "\n",
        "まずは前回までの推定結果を引き継ぎましょう。\n",
        "3.0.1で前回と同じ設定を引き継ぎます。続いて3.0.2を**前回のノートにコピーして**0.1から順に実行したのち、3.0.2を実行してください。1.1.5.を実行後に1.1.2-3.を再実行するのもお忘れなく。出力結果を3.0.3.にコピーして実行してください。3.0.4.を実行すると前回の推定が再現されるはずです。"
      ],
      "metadata": {
        "id": "3Le2rnYfgFAg"
      }
    },
    {
      "cell_type": "code",
      "source": [
        "# @title 3.0.1. 必要設定の読み込み\n",
        "\n",
        "#スクリプト実行に必要なパッケージ。\n",
        "import numpy as np\n",
        "import pandas as pd\n",
        "import datetime\n",
        "import matplotlib.pyplot as plt\n",
        "from scipy.optimize import curve_fit,minimize\n",
        "from scipy.stats import poisson,norm\n",
        "from scipy import integrate\n",
        "\n",
        "#用いる関数を定義\n",
        "def gaussian(x, a, m, s):#ガウシアン\n",
        "    return a*np.exp(-0.5*(x-m)**2/s**2)\n",
        "def lin(x,a,b):\n",
        "    return a*x+b\n",
        "def dlin(x,a,b,dx,da,db):#直線フィッティングの誤差導出用関数\n",
        "    dy=(x*da)**2\n",
        "    dy+=(dx*a)**2\n",
        "    dy+=db**2\n",
        "    dy=np.sqrt(dy)\n",
        "    #print(\"{:10.4f}, {:10.4f}, {:10.4f}\".format((x*da),dx*a,db))\n",
        "    return dy\n",
        "def pathToTime(path):\n",
        "    time_format='\"%Y-%m-%d\" \"%H:%M:%S\"'\n",
        "    temp = np.genfromtxt(path, skip_header=1025,skip_footer=1,dtype=str)\n",
        "    start_text=temp[0]+' '+temp[1]\n",
        "    start_time=datetime.datetime.strptime(start_text, time_format)\n",
        "    end_text=temp[2]+' '+temp[3]\n",
        "    end_time=datetime.datetime.strptime(end_text, time_format)\n",
        "    Time=(end_time-start_time).seconds\n",
        "    return Time\n",
        "def significance(n, b, sigma): #有意性を返す式\n",
        "    return (n-b)/np.sqrt(b+sigma**2)\n",
        "def prob(Z):#有意性を「観測した事象より大きく予想から外れる確率」に解釈しなおす式\n",
        "    return 1-(norm.cdf(Z)-norm.cdf(-Z))\n",
        "def rebin(x,y,ndiv=3):\n",
        "    bins = len(x)-1\n",
        "    # ndiv\n",
        "    print(len(x),x[-1],ndiv,bins%ndiv)\n",
        "    if bins%ndiv != 0:\n",
        "      return rebin(x[:-1],y[:-1],ndiv)\n",
        "    bins_new = int(bins/ndiv)\n",
        "    print(bins_new)\n",
        "    dx=x[1]-x[0]\n",
        "    x_new = np.linspace(x[0],x[-1], bins_new+1)\n",
        "    y_new = np.array([np.sum(y[i*ndiv:(i+1)*ndiv]) for i in range(bins_new+1)])\n",
        "    print(len(x_new),x_new[-1])\n",
        "    return x_new, y_new\n",
        "\n",
        "#実験データなど、Googleドライブにあるファイルにアクセスしたい場合に実行する。自分のアカウントで要認証。\n",
        "from google.colab import drive\n",
        "drive.mount('/content/drive')\n",
        "\n",
        "#ファイルを格納するディレクトリを指定、\"b3exp_alpha\"という名前のディレクトリをマイドライブ直下に作ることを推奨\n",
        "basePath='/content/drive/MyDrive/b3exp_alpha/'"
      ],
      "metadata": {
        "cellView": "form",
        "id": "jjpSpnWdhUG-"
      },
      "execution_count": null,
      "outputs": []
    },
    {
      "cell_type": "code",
      "source": [
        "# @title 3.0.2. 各種設定の引継ぎ（day1にコピーして使う！）\n",
        "print(f\"a_ev={a_ev:5.2e}\")\n",
        "print(f\"da_ev={da_ev:5.2e}\")\n",
        "print(f\"b_ev={b_ev:5.2e}\")\n",
        "print(f\"db_ev={db_ev:5.2e}\")\n",
        "print(f\"drt={drt:5.2e}\")\n",
        "print(f\"drs={drs:5.2e}\")\n",
        "print(f\"Lrs={Lrs:5.2e}\")\n",
        "print(f\"Lrt={Lrt:5.2e}\")\n",
        "print(f\"Lts={Lts:5.2e}\")\n",
        "print(f\"B0={B0:5.2e}\")\n",
        "print(f\"dB0={dB0:5.2e}\")\n",
        "print(f\"RAl={RAl:5.2e}\")\n",
        "print(f\"dRAl={dRAl:5.2e}\")\n",
        "print(f\"RAu={RAu:5.2e}\")\n",
        "print(f\"dRAu={dRAu:5.2e}\")\n",
        "print(f\"NAl={NAl:5.2e}\")\n",
        "print(f\"dNAl={dNAl:5.2e}\")\n",
        "print(f\"NAu={NAu:5.2e}\")\n",
        "print(f\"dNAu={dNAu:5.2e}\")\n",
        "print(f\"AAl={AAl:5.2e}\")\n",
        "print(f\"AAu={AAu:5.2e}\")\n",
        "print(f\"theta={theta:5.2e} #必要に応じて編集する\")\n",
        "print(f\"t={t:5.2e} #必要に応じて編集する\")\n",
        "print(f\"basePath=\\\"{basePath}\\\"\")"
      ],
      "metadata": {
        "id": "5TP6_Z-7pJ7r"
      },
      "execution_count": null,
      "outputs": []
    },
    {
      "cell_type": "code",
      "source": [
        "# @title 3.0.3. 必要設定のコピー場所(day1からコピーしてくる)\n",
        "\n",
        "#以下はダミーデータ。上書きすること。\n",
        "a_ev=6.19e-03\n",
        "da_ev=5.58e-05\n",
        "b_ev=1.29e-01\n",
        "db_ev=3.18e-02\n",
        "drt=3.00e+00\n",
        "drs=3.00e+00\n",
        "Lrs=1.30e+02\n",
        "Lrt=6.00e+01\n",
        "Lts=7.00e+01\n",
        "B0=2.69e+06\n",
        "dB0=1.79e+04\n",
        "RAl=3.92e+00\n",
        "dRAl=4.82e-01\n",
        "RAu=2.31e+00\n",
        "dRAu=1.51e-01\n",
        "NAl=8.82e+19\n",
        "dNAl=2.90e+18\n",
        "NAu=3.36e+19\n",
        "dNAu=8.88e+17\n",
        "AAl=4.33e+00\n",
        "AAu=1.60e+02\n",
        "theta=1.00e+01 #必要に応じて編集する\n",
        "t=7.20e+03 #必要に応じて編集する\n",
        "basePath=\"/content/drive/MyDrive/b3exp_alpha/\""
      ],
      "metadata": {
        "id": "8DOWqPCakL64"
      },
      "execution_count": null,
      "outputs": []
    },
    {
      "cell_type": "code",
      "source": [
        "# @title　3.0.4. 必要な計算式の再定義\n",
        "S1=np.pi*drt**2\n",
        "S2=np.pi*drs**2\n",
        "dOmega_RtoS=S2/Lrs**2\n",
        "dOmega_RtoT=S1/Lrt**2\n",
        "dOmega_TtoS=S2/Lts**2\n",
        "B=B0*dOmega_RtoT/4/np.pi\n",
        "dB=dB0*dOmega_RtoT/4/np.pi\n",
        "dsigmadOmegaAl=AAl*(np.sin(np.radians(theta)/2))**-4\n",
        "dsigmadOmegaAu=AAu*(np.sin(np.radians(theta)/2))**-4\n",
        "\n",
        "fig = plt.figure(figsize=(6, 6))\n",
        "ax = fig.add_subplot(111)\n",
        "x=np.arange(5,90)#プロットするx軸のbinを設定\n",
        "fAl=AAl*(np.sin(np.radians(x)/2))**-4\n",
        "fAu=AAu*(np.sin(np.radians(x)/2))**-4\n",
        "ax.plot(x, fAl, 'b-',label='Al theory')\n",
        "ax.plot(x, fAu, 'r-',label='Au theory')\n",
        "plt.scatter(theta,dsigmadOmegaAl,marker=\"o\",color=\"b\",label='Al expected')#理論値Al\n",
        "plt.scatter(theta,dsigmadOmegaAu,marker=\"o\",color=\"r\",label='Au expected')#理論値Al\n",
        "plt.yscale('log')  # ログスケール\n",
        "ax.set_xlabel(r'$\\theta$ (deg.)')\n",
        "ax.set_ylabel(r'$d\\sigma/d\\Omega$ (fm$^2$)')\n",
        "plt.legend(loc='upper right')\n",
        "\n",
        "N_expectedAl=B*t*NAl*1e-26*dsigmadOmegaAl*dOmega_TtoS\n",
        "dN_expectedAl=B*t*NAl*1e-26*dsigmadOmegaAl*dOmega_TtoS*np.sqrt((dB/B)**2+(1/np.sqrt(NAl)**2)+(dNAl/NAl)**2)\n",
        "print(\"推定測定回数(Al)={:10.1e}+/-{:10.1e}\".format(N_expectedAl,dN_expectedAl))\n",
        "N_expectedAu=B*t*NAu*1e-26*dsigmadOmegaAu*dOmega_TtoS\n",
        "dN_expectedAu=B*t*NAu*1e-26*dsigmadOmegaAu*dOmega_TtoS*np.sqrt((dB/B)**2+(1/np.sqrt(NAu)**2)+(dNAu/NAu)**2)\n",
        "print(\"推定測定回数(Au)={:10.1e}+/-{:10.1e}\".format(N_expectedAu,dN_expectedAu))"
      ],
      "metadata": {
        "cellView": "form",
        "id": "Pxv4SXfrokm1"
      },
      "execution_count": null,
      "outputs": []
    },
    {
      "cell_type": "markdown",
      "source": [
        "実際の測定はどのような結果になったでしょうか？3.0.5に測定ファイルを設定し、確認してください。"
      ],
      "metadata": {
        "id": "PUSMbasqpkk6"
      }
    },
    {
      "cell_type": "code",
      "source": [
        "# @title 3.0.4. 観測結果読み込み\n",
        "#散乱測定ファイル、ファイル名と測定角度を任意の回数入れる\n",
        "Al_file_list=[]\n",
        "Al_file_list.append(['300sec20degAl.csv',20])\n",
        "Al_file_list.append(['60sec10degAl.csv',10])\n",
        "Au_file_list=[]\n",
        "Au_file_list.append(['Au50deg68h.csv',50])\n",
        "\n",
        "\n",
        "theta_Al=[]\n",
        "dsdW_Al=[]\n",
        "Nmes_Al=[]\n",
        "Nexp_Al=[]\n",
        "dNexp_Al=[]\n",
        "fig_list=[]\n",
        "x=np.arange(0,1024)#x軸\n",
        "for file_i in Al_file_list :\n",
        "  Al_file=np.genfromtxt(basePath+file_i[0], skip_footer=6)\n",
        "  theta_Al.append(file_i[1])\n",
        "  Nsig=np.sum(Al_file)\n",
        "  tmes=pathToTime(basePath+file_i[0])\n",
        "  dsdW_Al.append(Nsig/(B*tmes*NAl*1e-26*dOmega_TtoS))\n",
        "  Nmes_Al.append(Nsig)\n",
        "  Nexp_Al.append(B*tmes*NAl*1e-26*AAl*(np.sin(np.radians(file_i[1])/2))**-4*dOmega_TtoS)\n",
        "  dNexp_Al.append(B*tmes*NAl*1e-26*AAl*(np.sin(np.radians(file_i[1])/2))**-4*dOmega_TtoS*np.sqrt((dB/B)**2+(1/np.sqrt(NAl)**2)+(dNAl/NAl)**2))\n",
        "  print(\"測定数　{:.2f} 測定時間{:.2f}\".format(Nsig,tmes))\n",
        "\n",
        "  fig_i = plt.figure(figsize=(6, 6))\n",
        "  fig_list=np.append(fig_list,fig_i)\n",
        "  ax = fig_list[-1].add_subplot(111)\n",
        "  _ = ax.hist(x, bins=1024, weights=Al_file, range=(0, 1024), alpha=0.5, label='Al data {:.0f}$^\\circ$ taking in {:.0f} sec\\ntotal count {:.0f}'.format(file_i[1],tmes,Nsig))\n",
        "  plt.xlabel('MCA channel [ch]', fontsize=18, fontfamily='serif')#x軸の名前\n",
        "  plt.ylabel('Event count', fontsize=18, fontfamily='serif')#y軸の名前\n",
        "  plt.legend(loc='upper right')\n",
        "\n",
        "\n",
        "theta_Au=[]\n",
        "Nmes_Au=[]\n",
        "Nexp_Au=[]\n",
        "dNexp_Au=[]\n",
        "dsdW_Au=[]\n",
        "for file_i in Au_file_list :\n",
        "  Au_file=np.genfromtxt(basePath+file_i[0], skip_footer=6)\n",
        "  theta_Au.append(file_i[1])\n",
        "  Nsig=np.sum(Au_file)\n",
        "  tmes=pathToTime(basePath+file_i[0])\n",
        "  dsdW_Au.append(Nsig/(B*tmes*NAu*1e-26*dOmega_TtoS))\n",
        "  Nmes_Au.append(Nsig)\n",
        "  Nexp_Au.append(B*tmes*NAu*1e-26*AAu*(np.sin(np.radians(file_i[1])/2))**-4*dOmega_TtoS)\n",
        "  dNexp_Au.append(B*tmes*NAu*1e-26*AAu*(np.sin(np.radians(file_i[1])/2))**-4*dOmega_TtoS*np.sqrt((dB/B)**2+(1/np.sqrt(NAu)**2)+(dNAu/NAu)**2))\n",
        "  print(\"測定数　{:.2f} 測定時間{:.2f}\".format(Nsig,tmes))\n",
        "\n",
        "  fig_i = plt.figure(figsize=(6, 6))\n",
        "  fig_list=np.append(fig_list,fig_i)\n",
        "  ax = fig_list[-1].add_subplot(111)\n",
        "  _ = ax.hist(x, bins=1024, weights=Au_file, range=(0, 1024), alpha=0.5, label='Au data {:.0f}$^\\circ$ taking in {:.0f} sec\\ntotal count {:.0f}'.format(file_i[1],tmes,Nsig))\n",
        "  plt.xlabel('MCA channel [ch]', fontsize=18, fontfamily='serif')#x軸の名前\n",
        "  plt.ylabel('Event count', fontsize=18, fontfamily='serif')#y軸の名前\n",
        "  plt.legend(loc='upper right')\n",
        "\n",
        "fig = plt.figure(figsize=(6, 6))\n",
        "ax = fig.add_subplot(111)\n",
        "theta_x=np.arange(1,90)#プロットするx軸のbinを再設定\n",
        "fAl=AAl*(np.sin(np.radians(theta_x)/2))**-4\n",
        "fAu=AAu*(np.sin(np.radians(theta_x)/2))**-4\n",
        "ax.plot(theta_x, fAl, 'b-',label='Al theory')\n",
        "ax.plot(theta_x, fAu, 'r-',label='Au theory')\n",
        "plt.yscale('log')  # ログスケール\n",
        "ax.set_xlabel(r'$\\theta$ (deg.)')\n",
        "ax.set_ylabel(r'$d\\sigma/d\\Omega$ (fm$^2$)')\n",
        "plt.errorbar(theta_Al,dsdW_Al,fmt=\"o\",color=\"b\",label='Al data')#測定値Al\n",
        "plt.errorbar(theta_Au,dsdW_Au,fmt=\"o\",color=\"r\",label='Au data')#測定値Au\n",
        "plt.legend(loc='upper right')"
      ],
      "metadata": {
        "id": "K1pfI7rsVAOj"
      },
      "execution_count": null,
      "outputs": []
    },
    {
      "cell_type": "markdown",
      "source": [
        "測定事象数は推定事象数に対してどの程度一致していますか？定量的に評価してみましょう。推定信号事象数がs±dsのとき、測定事象数がnで統計誤差のみを考えればよいなら、そのずれ度合いは\n",
        "$$\n",
        "\\frac{n-s}{\\sqrt{n+ds^2}}\n",
        "$$\n",
        "で得られます。誤差が適切に評価されていれば、この値は標準偏差1の正規分布に従います。"
      ],
      "metadata": {
        "id": "1ModV4Ttv5hq"
      }
    },
    {
      "cell_type": "code",
      "source": [
        "# @title 3.0.5. 推定値比較\n",
        "for s,ds,n in zip(Nexp_Al,dNexp_Al,Nmes_Al):\n",
        "  sig_dif=(n-s)/np.sqrt(n+ds**2)\n",
        "  print(\"Al expected {:.2e}+/-{:.2e}, observed {:.2e} -> {:.2e}σ \".format(s,ds,n,sig_dif))\n",
        "\n",
        "for s,ds,n in zip(Nexp_Au,dNexp_Au,Nmes_Au):\n",
        "  sig_dif=(n-s)/np.sqrt(n+ds**2)\n",
        "  print(\"Au expected {:.2e}+/-{:.2e}, observed {:.2e} -> {:.2e}σ \".format(s,ds,n,sig_dif))"
      ],
      "metadata": {
        "cellView": "form",
        "id": "LEbzddZXy3UO"
      },
      "execution_count": null,
      "outputs": []
    },
    {
      "cell_type": "markdown",
      "source": [
        "予想が完全に正しければ、正負に同程度ふらつくはずですが、そのようにならないことが多いでしょう。ここまで議論されていない要素として、背景事象と系統誤差があります。それぞれについて以下で議論します。"
      ],
      "metadata": {
        "id": "uZpprP2C2Nv1"
      }
    },
    {
      "cell_type": "markdown",
      "source": [
        "# 3.1. 背景事象推定"
      ],
      "metadata": {
        "id": "2r8s59mQaGPz"
      }
    },
    {
      "cell_type": "markdown",
      "source": [
        "背景事象は実験において重要な要素です。背景事象がb±dbと推定できれば、ずれ度合いは\n",
        "\n",
        "$$\n",
        "\\frac{n-s-b}{\\sqrt{n+ds^2+db^2}}\n",
        "$$\n",
        "\n",
        "となります。ずれを背景事象に押し付けることが可能なようにも見えます[<sup>1</sup>](#id_01)が、背景事象が多すぎると、信号事象があるかないかの議論が困難になります。定量的に信号事象があることを示すには、観測された事象数nが「背景事象数bと誤差σの仮定のみで観測される確率」を計算します。そして**背景事象だけで実際に観測された事象数が説明できてしまう確率が十分小さい**ことを示すことで、信号が有意であることを示します。具体的には\n",
        "\n",
        "$$\n",
        "Z=\\frac{s}{\\sqrt{b+ds^2+db^2}}\n",
        "$$\n",
        "\n",
        "を有意度[<sup>2</sup>](#id_02)と呼びます。これが大きければ、信号を優位に観測したと言えます。\n",
        "\n",
        "式からもわかるように、背景事象をいかに減らせるか、背景事象を信号事象からどれだけ正確に取り除けるか、そのうえで信号事象をいかに稼げるかが課題となります。\n",
        "\n",
        "今回の実験では、背景事象としては次のようなものが考えられます\n",
        "\n",
        "1.   線源とは無関係な自然放射線の入射\n",
        "2.   薄膜を通過せずに直接センサーへ入射する粒子\n",
        "3.   薄膜以外の位置で散乱されてセンサーに入射する粒子\n",
        "\n",
        "\n",
        "1.に関しては、先行実験で線源のない状態でt=4515秒の測定を行い$N_{obs}$=1イベントが観測されました。統計数が少ないためポアソン分布\n",
        "$$\n",
        "P(N|\\lambda, t)=\\frac{e^{-\\lambda t}(\\lambda t)^N}{N!}\n",
        "$$\n",
        "を仮定します。ここでは１度しか計測していないので、λに関して保守的な見積もりをします。具体的には、観測数が$N_{obs}$かそれ以下である確率が5%となるような最大のλを採用します。\n",
        "\n",
        "$$\n",
        "\\Sigma_{N=0}^{N_{obs}}P(N|\\lambda, t)=0.05\n",
        "$$\n",
        "\n",
        "3.1.1.を実行して、$\\lambda$を求めましょう。より長時間の測定を行えば、保守的な推測でも$\\lambda$の値は小さくなります。\n",
        "\n",
        "<span id=\"id_01\">[1]一般的な実験では、背景事象も綿密な見積もりの上に、推定値を計算して比較を行います。</span>\n",
        "\n",
        "<span id=\"id_02\">[2]確率分布がbを中心とした幅$b+ds^2+db^2$のガウシアンと仮定すると得られる。背景事象が十分にない場合はガウシアンでなくポアソン分布を仮定する必要があり、より複雑な式で計算する必要がある。</span>"
      ],
      "metadata": {
        "id": "f1O6tL6mSdwC"
      }
    },
    {
      "cell_type": "code",
      "source": [
        "# @title 3.1.1. 自然放射線量の推定\n",
        "def N_to_lambda(N,p):\n",
        "    bnds=((N,N),(0,None))\n",
        "    func=lambda x: (poisson.cdf(x[0],x[1])-p)**2\n",
        "    res=minimize(func,(N,N*2),bounds=bnds)\n",
        "    for i in range(0,N+1):\n",
        "      print(\"{:2d} {:.2e}\".format(i,100*poisson.pmf(i,res.x[1])))\n",
        "    return res.x[1]\n",
        "\n",
        "Nobs=1\n",
        "t=4515\n",
        "lamb=N_to_lambda(Nobs,0.05)\n",
        "tmes=300#測定した時間を入れる\n",
        "print(\"推定されたλ*t={:.2e}->λ={:.2e}\".format(lamb,lamb/t))\n",
        "print(\"推定された背景事象数={:.2e} for {:.2e} sec mesure\".format(lamb*tmes/t,tmes))\n"
      ],
      "metadata": {
        "id": "wn6Xn8luaZbo",
        "cellView": "form"
      },
      "execution_count": null,
      "outputs": []
    },
    {
      "cell_type": "markdown",
      "source": [
        "2.及び3.の背景事象に関しては、様々なアイディアで推定・削減することが可能です。\n",
        "議論しながら大まかに見積もり、b,dbの値を見積もってみてください。見積もりを出したら、3.1.2.で予想とのずれと有意度の議論を行いましょう。"
      ],
      "metadata": {
        "id": "DPybH4_EGm97"
      }
    },
    {
      "cell_type": "code",
      "source": [
        "# @title 3.1.2. 誤差を考慮した予想とのずれ\n",
        "bAl=[10,10]#Alの測定における背景事象推定数を測定した回数入れる\n",
        "dbAl=[10,10]#Alの測定における背景事象推定数誤差を測定した回数入れる\n",
        "bAu=[10]#Auの測定における背景事象推定数を測定した回数入れる\n",
        "dbAu=[10]#Auの測定における背景事象推定数誤差を測定した回数入れる\n",
        "\n",
        "for s,ds,n,b,db in zip(Nexp_Al,dNexp_Al,Nmes_Al,bAl,dbAl):\n",
        "  sig_dif=(n-s-b)/np.sqrt(n+ds**2+db**2)\n",
        "  significance=s/np.sqrt(b+ds**2+db**2)\n",
        "  print(\"Al expected {:.2e}+/-{:.2e}, background {:.2e}+/-{:.2e}, observed {:.2e} -> diff {:.2e}σ, significance(exp) {:.2e}σ \".format(s,ds,b,db,n,sig_dif,significance))\n",
        "\n",
        "for s,ds,n,b,db in zip(Nexp_Au,dNexp_Au,Nmes_Au,bAu,dbAu):\n",
        "  sig_dif=(n-s-b)/np.sqrt(n+ds**2+db**2)\n",
        "  significance=s/np.sqrt(b+ds**2+db**2)\n",
        "  print(\"Au expected {:.2e}+/-{:.2e}, background {:.2e}+/-{:.2e}, observed {:.2e} -> diff {:.2e}σ, significance(exp) {:.2e}σ \".format(s,ds,b,db,n,sig_dif,significance))"
      ],
      "metadata": {
        "cellView": "form",
        "id": "tS3vnDT481kf"
      },
      "execution_count": null,
      "outputs": []
    },
    {
      "cell_type": "markdown",
      "source": [
        "# 3.2. 誤差推定"
      ],
      "metadata": {
        "id": "DKIzjbQrcPNp"
      }
    },
    {
      "cell_type": "markdown",
      "source": [
        "これまでは各種測定事象数に依存する統計誤差とその伝搬のみを誤差として取り扱ってきました。しかし、実際には測定装置や測定手法に依存する誤差も考慮する必要があります。背景事象の推定においては、推定手法に依存した誤差がないか検討しましょう。\n",
        "\n",
        "信号事象においては、理論的な推定数に対し実際に観測された事象数に大きな乖離が見られたのではないでしょうか。これに関しても、誤差を議論することで理解することができます。3.2.1.をヒントとして用いて、誤差の原因について議論しましょう。"
      ],
      "metadata": {
        "id": "YyTZy0s8cR9h"
      }
    },
    {
      "cell_type": "code",
      "source": [
        "# @title 3.2.1. 角度議論用ツール\n",
        "L2=11.7#mm ターゲット手前のウィンドウからターゲットまでの距離\n",
        "\n",
        "flag=1#revert flag\n",
        "alpha=-1*flag#cos(agnle) on target\n",
        "beta=1*flag#cos(angle) on sensor\n",
        "gamma=1*flag#cos(angle) on radiation source\n",
        "dsi=5#mm, window size of radiation source\n",
        "\n",
        "theta_orig=13\n",
        "theta_orig=np.radians(theta_orig)\n",
        "\n",
        "vL12=np.array([0,0,Lrt+L2])\n",
        "vdL12=np.array([alpha*np.cos(np.pi/6),0,alpha*np.sin(np.pi/6)])\n",
        "vdL12*=drt*(Lrt+L2)/Lrt\n",
        "vdLi=np.array([dsi*gamma,0,0])\n",
        "vLI=vL12+vdL12-vdLi\n",
        "\n",
        "vL3=np.array([-Lts*np.sin(theta_orig),0,Lts*np.cos(theta_orig)])\n",
        "vdL3=np.array([drs*beta*np.sin(theta_orig),0,drs*beta*np.cos(theta_orig)])\n",
        "vLO=vL3+vdL3-vdL12\n",
        "print(\"流入ベクトル角度{:.3f}° 散乱ベクトル角度{:.3f}° 散乱しない粒子の流入が可能か{:b}\".format(np.degrees(np.arctan(vLI[0]/vLI[2])),np.degrees(np.arctan(vLO[0]/vLO[2])),np.degrees(np.arctan(vLI[0]/vLI[2]))<np.degrees(np.arctan(vLO[0]/vLO[2]))))\n",
        "\n",
        "thetap=np.arccos(np.dot(vLI,vLO)/np.sqrt(np.dot(vLI,vLI)*np.dot(vLO,vLO)))\n",
        "print(\"最小流入可能角度{:.3f}°\".format(np.degrees(thetap)))\n",
        "\n",
        "dsigmadOmegaAl=AAl*(np.sin(thetap/2))**-4\n",
        "dsigmadOmegaAu=AAu*(np.sin(thetap/2))**-4\n",
        "N_expectedAl=B*t*NAl*1e-26*dsigmadOmegaAl*dOmega_TtoS\n",
        "dN_expectedAl=B*t*NAl*1e-26*dsigmadOmegaAl*dOmega_TtoS*np.sqrt((dB/B)**2+(1/np.sqrt(NAl)**2)+(dNAl/NAl)**2)\n",
        "print(\"最小流入可能角度での推定測定回数(Al)={:10.1e}+/-{:10.1e}\".format(N_expectedAl,dN_expectedAl))\n",
        "N_expectedAu=B*t*NAu*1e-26*dsigmadOmegaAu*dOmega_TtoS\n",
        "dN_expectedAu=B*t*NAu*1e-26*dsigmadOmegaAu*dOmega_TtoS*np.sqrt((dB/B)**2+(1/np.sqrt(NAu)**2)+(dNAu/NAu)**2)\n",
        "print(\"最小流入可能角度での推定測定回数(Au)={:10.1e}+/-{:10.1e}\".format(N_expectedAu,dN_expectedAu))"
      ],
      "metadata": {
        "id": "tBkxUhp26r35"
      },
      "execution_count": null,
      "outputs": []
    },
    {
      "cell_type": "markdown",
      "source": [
        "# 3.3. 結果確認"
      ],
      "metadata": {
        "id": "WuUOJ-C1mmou"
      }
    },
    {
      "cell_type": "markdown",
      "source": [
        "結果をまとめましょう。観測数が分かったらnew_rowを書き換えて実行してください。**このセルのみ実行後修正が必要な場合は管理者の操作が必要です。**慣れるまでは実行前に一声かけてください。"
      ],
      "metadata": {
        "id": "7-jc3TcgmyFI"
      }
    },
    {
      "cell_type": "code",
      "source": [
        "import requests\n",
        "import pandas as pd\n",
        "import matplotlib.pyplot as plt\n",
        "import numpy as np\n",
        "from matplotlib.colors import to_rgb\n",
        "\n",
        "# --- データ取得 ---\n",
        "url = \"https://script.google.com/macros/s/AKfycbwbeOC2A1o1zm0L1dGLMoV_7y905ST80tijvzilIJ32drZms_iwnObMsFRovgyJyQsG/exec\"\n",
        "new_row = {\n",
        "    \"班\": \"test\",\n",
        "    \"trial\": 0,\n",
        "    \"type\": \"Al\",  # ← Al または Au\n",
        "    \"time\": \"0\",\n",
        "    \"theta\": 0,\n",
        "    \"Nexp\": 0,\n",
        "    \"dNexp\": 1,\n",
        "    \"syst\": 0,\n",
        "    \"b\": 0,\n",
        "    \"db\": 0,\n",
        "    \"Nobs\": 98\n",
        "}\n",
        "res = requests.post(url, json=new_row)\n",
        "data = res.json()\n",
        "df = pd.DataFrame(data)\n",
        "\n",
        "# --- 設定 ---\n",
        "班_list = sorted(df[\"班\"].unique())\n",
        "type_list = sorted(df[\"type\"].unique())\n",
        "班_colors = plt.cm.tab10(range(len(班_list)))\n",
        "type_markers = {\"Al\": \"^\", \"Au\": \"v\"}\n",
        "\n",
        "def gradient_color(base_color, n, idx):\n",
        "    \"\"\"代表色から白に向かってグラデーション\"\"\"\n",
        "    target = np.array(base_color[:3])*0.7\n",
        "    base = np.array(base_color[:3])\n",
        "    ratio = idx/(n-1) if n>1 else 0\n",
        "    return base*(1-ratio) + target*ratio\n",
        "\n",
        "def plot_xy(y_col, title, log_scale=False, abs_value=False):\n",
        "    plt.figure(figsize=(7,5))\n",
        "    all_y = []\n",
        "    for i, b in enumerate(班_list):\n",
        "        df_b = df[df[\"班\"] == b]\n",
        "        base_color = to_rgb(班_colors[i])\n",
        "        trials = sorted(df_b[\"trial\"].unique())\n",
        "        for j, t in enumerate(trials):\n",
        "            df_bt = df_b[df_b[\"trial\"] == t]\n",
        "            color = gradient_color(base_color, len(trials), j)\n",
        "            for ty in type_list:\n",
        "                df_btt = df_bt[df_bt[\"type\"] == ty].copy()\n",
        "                if abs_value:\n",
        "                    df_btt[y_col] = np.abs(df_btt[y_col])\n",
        "                all_y.extend(df_btt[y_col].dropna())\n",
        "                plt.scatter(df_btt[\"theta\"], df_btt[y_col],\n",
        "                            color=color, marker=type_markers.get(ty, \"o\"),\n",
        "                            edgecolors='black', linewidths=0.3)\n",
        "\n",
        "    # === 凡例 ===\n",
        "    for i, b in enumerate(班_list):\n",
        "        plt.scatter([], [], color=班_colors[i], label=f\"{b}\", s=60)\n",
        "    for ty, m in type_markers.items():\n",
        "        plt.scatter([], [], color=\"gray\", marker=m, label=f\"{ty}\", s=60)\n",
        "\n",
        "    plt.xlabel(\"theta\")\n",
        "    plt.ylabel(y_col if not abs_value else f\"|{y_col}|\")\n",
        "    plt.title(title)\n",
        "    plt.grid(True, linestyle='--', alpha=0.5, which='both')\n",
        "\n",
        "    # === logスケール & 下限設定 ===\n",
        "    if log_scale:\n",
        "        plt.yscale(\"log\")\n",
        "        if all_y:\n",
        "            ymin = min(np.nanmin(all_y), 0.1)\n",
        "            plt.ylim(bottom=ymin * 0.9)  # 少し余裕を持たせる\n",
        "        # y=1 に赤線\n",
        "        plt.axhline(1, color='red', linestyle='--', linewidth=1.2, label=\"|match|=1\")\n",
        "\n",
        "    plt.legend(title=\"Legend\", fontsize=8, frameon=True, loc='best')\n",
        "    plt.tight_layout()\n",
        "    plt.show()\n",
        "\n",
        "# === プロット ===\n",
        "plot_xy(\"Z\", \"theta vs Z\")\n",
        "plot_xy(\"match\", \"theta vs |match| (log scale)\", log_scale=True, abs_value=True)\n"
      ],
      "metadata": {
        "colab": {
          "base_uri": "https://localhost:8080/",
          "height": 997
        },
        "id": "eN_eCHlynD0M",
        "outputId": "e1b960f2-ef9a-4faf-a46a-1db30b425d31"
      },
      "execution_count": 24,
      "outputs": [
        {
          "output_type": "display_data",
          "data": {
            "text/plain": [
              "<Figure size 700x500 with 1 Axes>"
            ],
            "image/png": "[encoded data removed]"
          },
          "metadata": {}
        },
        {
          "output_type": "display_data",
          "data": {
            "text/plain": [
              "<Figure size 700x500 with 1 Axes>"
            ],
            "image/png": "[encoded data removed]"
          },
          "metadata": {}
        }
      ]
    }
  ]
}