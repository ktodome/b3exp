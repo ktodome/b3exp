{
  "nbformat": 4,
  "nbformat_minor": 0,
  "metadata": {
    "colab": {
      "provenance": []
    },
    "kernelspec": {
      "name": "python3",
      "display_name": "Python 3"
    },
    "language_info": {
      "name": "python"
    }
  },
  "cells": [
    {
      "cell_type": "markdown",
      "source": [
        "# 0. はじめに"
      ],
      "metadata": {
        "id": "_ornFGi8tavV"
      }
    },
    {
      "cell_type": "markdown",
      "source": [
        "物理学の実験においては、事前に測定値を予測することが可能な様々な理論式が知られています。理論式を検証するために実験を行うこともあれば、理論式に合わない実験結果を説明するために新たな理論が提唱されることもあります。ここではラザフォード散乱の式を例にとり、理論式を用いた予想と検証を行います。ラザフォード散乱による散乱事象の数$N_{exp}$は\n",
        "\n",
        "$$\n",
        "N_{exp}=B⋅t⋅N\\frac{dσ}{d\\Omega}(θ,ϕ)\\cdotΔΩ\n",
        "$$\n",
        "\n",
        "と推測されます。$B$は単位時間に標的に入射するアルファ線数、$t$は測定時間、$N$は薄膜の単位面積あたりに存在する原子数、$dσ/d\\Omega$は単位立体角当たりのラザフォード散乱の確率、$ΔΩ$はセンサーの見込み角です。これら推測に必要な各種パラメタを測定し、具体的な事象数の推測をこのノートでは目指します。\n",
        "\n",
        "pythonやjupyter notebookの基本的な使い方に関しては、内田誠氏作成の[こちらのノートブック](https://github.com/ktodome/b3exp/blob/master/notebooks/01_python_basics.ipynb)などを参考にしてください。\n",
        "\n",
        "まずは以下のセルを実行して、本ノートブックの操作に必要な設定を行います。"
      ],
      "metadata": {
        "id": "uVnVNEU_ulnz"
      }
    },
    {
      "cell_type": "code",
      "source": [
        "# @title 0.1. 必要設定の読み込み\n",
        "\n",
        "#スクリプト実行に必要なパッケージ。\n",
        "import numpy as np\n",
        "import pandas as pd\n",
        "import datetime\n",
        "import matplotlib.pyplot as plt\n",
        "from scipy.optimize import curve_fit\n",
        "from scipy.stats import poisson,norm\n",
        "\n",
        "#用いる関数を定義\n",
        "def gaussian(x, a, m, s):#ガウシアン\n",
        "    return a*np.exp(-0.5*(x-m)**2/s**2)\n",
        "\n",
        "def lin(x,a,b):\n",
        "    return a*x+b\n",
        "\n",
        "def dlin(x,a,b,dx,da,db):#直線フィッティングの誤差導出用関数\n",
        "    dy=(x*da)**2\n",
        "    dy+=(dx*a)**2\n",
        "    dy+=db**2\n",
        "    dy=np.sqrt(dy)\n",
        "    #print(\"{:10.4f}, {:10.4f}, {:10.4f}\".format((x*da),dx*a,db))\n",
        "    return dy\n",
        "def pathToTime(path):\n",
        "    time_format='\"%Y-%m-%d\" \"%H:%M:%S\"'\n",
        "    temp = np.genfromtxt(path, skip_header=1025,skip_footer=1,dtype=str)\n",
        "    start_text=temp[0]+' '+temp[1]\n",
        "    start_time=datetime.datetime.strptime(start_text, time_format)\n",
        "    end_text=temp[2]+' '+temp[3]\n",
        "    end_time=datetime.datetime.strptime(end_text, time_format)\n",
        "    Time=(end_time-start_time).seconds\n",
        "    return Time"
      ],
      "metadata": {
        "id": "hALijMvCIlMl"
      },
      "execution_count": null,
      "outputs": []
    },
    {
      "cell_type": "code",
      "source": [
        "# @title 0.2. Googleドライブのマウント\n",
        "\n",
        "#実験データなど、Googleドライブにあるファイルにアクセスしたい場合に実行する。自分のアカウントで要認証。\n",
        "from google.colab import drive\n",
        "drive.mount('/content/drive')\n",
        "\n",
        "#ファイルを格納するディレクトリを指定、\"b3exp_alpha\"という名前のディレクトリをマイドライブ直下に作ることを推奨\n",
        "basePath='/content/drive/MyDrive/b3exp_alpha/'"
      ],
      "metadata": {
        "id": "Pf4oCsuAI7qc",
        "outputId": "c96ab7a7-c7a6-4632-c5fe-836fdadcb946",
        "colab": {
          "base_uri": "https://localhost:8080/"
        }
      },
      "execution_count": null,
      "outputs": []
    },
    {
      "cell_type": "markdown",
      "source": [
        "# 1.実験装置のキャリブレーション・測定"
      ],
      "metadata": {
        "id": "UzjSp9-TvF-6"
      }
    },
    {
      "cell_type": "markdown",
      "source": [
        "この実験ではα線源、金及びアルミ薄膜、SSDを用います。それぞれの性能の公称値は以下です。\n",
        "*   線源：　2 MBq (1 Bq = 1 event/sec)\n",
        "*   金箔：　1 μm, 19.3g/cm^3\n",
        "*   アルミ箔：　10 μm, 2.69 g/cm^3\n",
        "\n",
        "これらの公称値を参考にしつつ、装置のキャリブレーション(較正)と実際の厚さの測定を行います。"
      ],
      "metadata": {
        "id": "kQvtkddHJtY3"
      }
    },
    {
      "cell_type": "markdown",
      "source": [
        "## 1.1. 装置のキャリブレーション"
      ],
      "metadata": {
        "id": "g_WKnekdveAR"
      }
    },
    {
      "cell_type": "markdown",
      "source": [
        "まずは信号のエネルギーとチャンネルの関係を調べます。パルス波の大きさを変えながら、チャンネルがどのように変化するか調べ、**パルス波の大きさが0の時のチャンネルを0 MeV相当のエネルギーとして求めます**。\n",
        "\n",
        "パルス波の大きさを変化させながら、ADCチャンネルの中心値を読み取り1.1.1.を編集、随時1.1.2.を実行してプロットを確認しましょう。"
      ],
      "metadata": {
        "id": "2fLAxkQwvugi"
      }
    },
    {
      "cell_type": "code",
      "source": [
        "# @title 1.1.1. キャリブレーション用測定データ手入力\n",
        "\n",
        "#まず目で読んだ値でプロットを作る。\n",
        "ch=np.array([304,379,466,546,627,698,790])#読み取ったADCチャンネル値に置き換える\n",
        "hight=np.array([200,250,300,350,400,450,500])#読み取ったパルス波の高さ[mV]に置き換える\n",
        "\n",
        "dch=np.ones(ch.size)#x方向の誤差は1とする。\n",
        "dhight=np.ones(ch.size)*10#y方向の誤差は10とする。"
      ],
      "metadata": {
        "id": "pAmSXMqrcTQ6"
      },
      "execution_count": null,
      "outputs": []
    },
    {
      "cell_type": "code",
      "source": [
        "# @title 1.1.2. 直線フィッティング(ch vs hight)\n",
        "\n",
        "#中心チャンネルを結ぶよう直線フィッティングして、更に0 MeV相当のチャンネル数を算出。\n",
        "par_line, cov_line = curve_fit(lin, ch, hight, sigma=dhight, absolute_sigma=True)#f(ch)=hightを直線(lin)でフィッティング\n",
        "\n",
        "perr_line = np.sqrt(np.diag(cov_line))#誤差抽出\n",
        "\n",
        "#テキスト出力\n",
        "mat = np.vstack((par_line,perr_line)).T\n",
        "df = pd.DataFrame(mat,index=(\"Slope\", \"Offset\"), columns=(\"Estimate\", \"Std. error\"))\n",
        "print(df)\n",
        "\n",
        "#プロット作成\n",
        "x_func = np.arange(0,1024)\n",
        "y_func = par_line[0]*x_func + par_line[1]\n",
        "\n",
        "plt.errorbar(ch,hight,dhight,dch,fmt=\"o\",label='ch vs hight data')\n",
        "plt.plot(x_func,y_func,label='ch vs hight fit')\n",
        "plt.xlabel('MCA channel [ch]', fontsize=18, fontfamily='serif')#x軸の名前\n",
        "plt.ylabel('Signal Hight [mV]', fontsize=18, fontfamily='serif')#y軸の名前\n",
        "plt.legend(loc='upper left')\n",
        "plt.show()"
      ],
      "metadata": {
        "id": "8h6MoTtVd4N4",
        "outputId": "a0176862-eb51-47d3-afe4-80bb2f1fdf7a",
        "colab": {
          "base_uri": "https://localhost:8080/",
          "height": 513
        }
      },
      "execution_count": null,
      "outputs": []
    },
    {
      "cell_type": "markdown",
      "source": [
        "切片から0 MeV相当のチャンネル数を導出できます。次を実行して計算しましょう。"
      ],
      "metadata": {
        "id": "cD4s3IXfw2nj"
      }
    },
    {
      "cell_type": "code",
      "source": [
        "# @title 1.1.3. 0 MeV相当チャンネル導出\n",
        "a=par_line[0]\n",
        "b=par_line[1]\n",
        "da=perr_line[0]\n",
        "db=perr_line[1]\n",
        "\n",
        "E0=(0-b)/a#E=a*ch+b -> ch=(E-b)/aで、E=0を求める\n",
        "dE0=abs((0-b)/a*np.sqrt((da/a)**2+(db/b)**2))#b,aにつく誤差をそれぞれ評価\n",
        "print(\"0 MeV= {:7.2f} +/- {:7.2f} ch\".format(E0,dE0))"
      ],
      "metadata": {
        "id": "fGobygPjzWoN",
        "outputId": "07282b61-22b2-45e4-e0bc-9630afbb5d6c",
        "colab": {
          "base_uri": "https://localhost:8080/"
        }
      },
      "execution_count": null,
      "outputs": []
    },
    {
      "cell_type": "markdown",
      "source": [
        "データが一通り出そろったら、もう少し丁寧な解析をしてみましょう。\n",
        "1.1.1.では波高の誤差を大まかに決めましたが、実際に波高にはばらつきがあり、その範囲でおおよそ目標の波高に調整を行っているはずです。この波高のばらつきはMCA channelの幅として現れます。これを用いて誤差を丁寧に評価してみましょう。定量的に評価するために、ガウシアンでフィッティングを行います。\n",
        "1.1.4.でこれまでのデータを取り込み、1.1.5.でそれぞれフィッティングを行います。\n",
        "これらを行ってから再度1.1.2.を実行すると、より正確な傾きの見積もりができるようになります。"
      ],
      "metadata": {
        "id": "9JIxgrwyrrxd"
      }
    },
    {
      "cell_type": "code",
      "source": [
        "# @title 1.1.4. キャリブレーション用測定データ解析\n",
        "#パルス波ファイル、ファイル名と測定波高を任意の回数入れる\n",
        "pulse_file_list=[]\n",
        "pulse_file_list.append(['pulse500mV.csv',500])\n",
        "pulse_file_list.append(['pulse450mV.csv',450])\n",
        "pulse_file_list.append(['pulse400mV.csv',400])\n",
        "pulse_file_list.append(['pulse350mV.csv',350])\n",
        "pulse_file_list.append(['pulse300mV.csv',300])\n",
        "pulse_file_list.append(['pulse250mV.csv',250])\n",
        "pulse_file_list.append(['pulse200mV.csv',200])\n",
        "\n",
        "pulse_list=np.empty((0,1024),int)\n",
        "hight=[]\n",
        "for file_i in pulse_file_list:#入力したデータ数分繰り返し\n",
        "    y=np.genfromtxt(basePath+file_i[0], skip_footer=6)#1ヒストグラム取り出し\n",
        "    y=[y]\n",
        "    pulse_list=np.append(pulse_list,y,axis=0)\n",
        "    hight=np.append(hight,file_i[1])\n"
      ],
      "metadata": {
        "id": "SBoa5LWSLPOM"
      },
      "execution_count": null,
      "outputs": []
    },
    {
      "cell_type": "code",
      "source": [
        "# @title 1.1.5. キャリブレーション用ガウシアンフィッティング\n",
        "\n",
        "#1.1.5のプロット用変数を定義\n",
        "ch = []\n",
        "dch = []\n",
        "dhight=[]\n",
        "\n",
        "pulses=np.zeros(1024)\n",
        "dA=10\n",
        "\n",
        "#プロット下地を作成\n",
        "fig = plt.figure(figsize=(6, 4))\n",
        "ax = fig.add_subplot(111)\n",
        "x=np.arange(0,1024)#プロットするx軸のbinを設定\n",
        "plt.xlabel('MCA channel [ch]', fontsize=18, fontfamily='serif')#x軸の名前\n",
        "plt.ylabel('Event count', fontsize=18, fontfamily='serif')#y軸の名前\n",
        "for hight_i,pulse_i in zip(hight,pulse_list):#入力したデータ数分繰り返し\n",
        "    y=pulse_i\n",
        "    dy=np.where(y > 0, np.sqrt(y), 1.0)#誤差は統計誤差の√nのみ,nが0なら0\n",
        "    par_gaus, cov_gaus = curve_fit(gaussian, x, y, p0=(np.max(y), np.argmax(y), dA),sigma=dy, absolute_sigma=True)#適切な初期値を与えてフィッティング\n",
        "    perr_gaus = np.sqrt(np.diag(cov_gaus))#分散共分散行列の対角成分取り出し=分散の取り出し\n",
        "    #テキスト出力用成型\n",
        "    mat = np.vstack((par_gaus,perr_gaus)).T\n",
        "    df = pd.DataFrame(mat,index=(\"Constant\", \"Mean\", \"Sigma\"), columns=(\"Estimate\", \"Std. error\"))\n",
        "    #テキスト出力\n",
        "    print(df)\n",
        "    #結果を記録\n",
        "    ch=np.append(ch,float(par_gaus[1]))\n",
        "    dch=np.append(dch,float(perr_gaus[1]))\n",
        "    dhight=np.append(dhight,float(par_gaus[2])*a)\n",
        "\n",
        "    print(\"{:3.2f}[mV]= {:.3f} +/- {:.3f}[ch] (dhight={:.3f} [mV])\".format(hight_i,ch[-1],dch[-1],dhight[-1]))\n",
        "    #フィット結果のプロットを追加\n",
        "    y = gaussian(x, *par_gaus)\n",
        "    _ = ax.plot(x, y, '-', label='fit{:5.1f}'.format(hight_i))\n",
        "    _ = ax.hist(x, bins=1024, weights=y, range=(0, 1025), alpha=0.5, label='data{:5.1f}'.format(hight_i))\n",
        "plt.legend(loc='upper right')#凡例表示"
      ],
      "metadata": {
        "id": "I0qZZXSuNpM0",
        "outputId": "1c308403-f98b-45a5-b7e3-b8fe7db6fe1e",
        "colab": {
          "base_uri": "https://localhost:8080/",
          "height": 1000
        }
      },
      "execution_count": null,
      "outputs": []
    },
    {
      "cell_type": "markdown",
      "source": [
        "これでチャンネル数とパルス波の対応関係が得られました。再度1.1.2.と1.1.3.を行って、誤差がどの程度向上したか見てみましょう。"
      ],
      "metadata": {
        "id": "nl-ZiGlbd0NJ"
      }
    },
    {
      "cell_type": "markdown",
      "source": [
        "続いてアルファ線が、途中標的を通過せずにセンサーに届いた場合の信号のチャンネル数を調べます。アルファ線のエネルギーが4.5 MeVであることを用いて、キャリブレーションのスケールを再決定します。測定データを\n",
        "```\n",
        "NoTarget0deg60sec.csv\n",
        "```\n",
        "として保存してください。\n",
        "\n",
        "続けて1.1.6.で実験データを読み込み、1.1.7.及び1.1.8.を実行して、キャリブレーションが適切に行われたか確認してください。"
      ],
      "metadata": {
        "id": "29Ob1RDbfOhn"
      }
    },
    {
      "cell_type": "code",
      "source": [
        "# @title 1.1.6. ターゲットなし測定データ入力\n",
        "#強度測定ファイル、適宜書き換えること\n",
        "calib_file='NoTarget0deg60sec.csv'\n",
        "\n",
        "alpha_calib =np.genfromtxt(basePath+calib_file, skip_footer=6)\n",
        "Tcalib=pathToTime(basePath+calib_file)"
      ],
      "metadata": {
        "id": "MaJJr_ESgorX"
      },
      "execution_count": 67,
      "outputs": []
    },
    {
      "cell_type": "code",
      "source": [
        "# @title 1.1.7. ターゲットなしデータ用ガウシアンフィッティング\n",
        "\n",
        "#プロット下地を作成\n",
        "fig = plt.figure(figsize=(6, 4))\n",
        "ax = fig.add_subplot(111)\n",
        "_ = ax.hist(x, bins=1024, weights=alpha_calib, range=(0, 1024), alpha=0.5, label='source calibration data')#全データのヒストグラムを作成\n",
        "plt.xlabel('MCA channel [ch]', fontsize=18, fontfamily='serif')#x軸の名前\n",
        "plt.ylabel('Event count', fontsize=18, fontfamily='serif')#y軸の名前\n",
        "\n",
        "dy=np.where(alpha_calib > 0, np.sqrt(alpha_calib), 1.0)#誤差は統計誤差の√nのみ,nが0なら0\n",
        "par_calib, cov_calib = curve_fit(gaussian , x, alpha_calib, p0=(100, 800, 25), sigma=dy, absolute_sigma=True)#適切な初期値を与えてフィッティング\n",
        "perr_calib = np.sqrt(np.diag(cov_calib))#分散共分散行列の対角成分取り出し=分散の取り出し\n",
        "\n",
        "#テキスト出力\n",
        "mat = np.vstack((par_calib,perr_calib)).T\n",
        "df = pd.DataFrame(mat,index=(\"Constant\", \"Mean\", \"Sigma\"), columns=(\"Estimate\", \"Std. error\"))\n",
        "print(df)\n",
        "\n",
        "#フィット結果のプロットを追加\n",
        "y = gaussian(x, *par_calib)\n",
        "_ = ax.plot(x, y, '-', label='fit_calib')\n",
        "plt.legend(loc='upper left')"
      ],
      "metadata": {
        "id": "mL9WVnbQg3wc",
        "outputId": "79e5b08f-69f3-4a3b-c59e-2044964bd80d",
        "colab": {
          "base_uri": "https://localhost:8080/",
          "height": 488
        }
      },
      "execution_count": null,
      "outputs": []
    },
    {
      "cell_type": "code",
      "source": [
        "# @title 1.1.8. 4.5 MeV相当チャンネル導出とキャリブレーション結果確認\n",
        "E4p5=par_calib[1]\n",
        "dE4p5=perr_calib[1]\n",
        "print(\"4.5 MeV= {:7.2f} +/- {:7.2f} ch\".format(E4p5,dE4p5))\n",
        "\n",
        "#4.5 MeVの高さが合うよう調整\n",
        "scaling=a*E4p5 + b\n",
        "par_line, cov_line = curve_fit(lin, ch, hight/scaling*4.5, sigma=dhight/scaling*4.5, absolute_sigma=True)#f(ch+/-dch)=Eを直線(lin)でフィッティング\n",
        "perr_line = np.sqrt(np.diag(cov_line))#誤差抽出\n",
        "a_ev=par_line[0]\n",
        "b_ev=par_line[1]\n",
        "da_ev=perr_line[0]\n",
        "db_ev=perr_line[1]\n",
        "y = a_ev*x + b_ev\n",
        "print(a_ev,b_ev)\n",
        "\n",
        "#キャリブレーションされた関数で、測定されたチャンネル数から予想されたエネルギーの値が得られるか確認\n",
        "print(\"f(E4p5 [ch])= {:5.3f} +/- {:5.3f} [MeV]\".format(lin(E4p5,a_ev,b_ev),dlin(E4p5,a_ev,b_ev,dE4p5,da_ev,db_ev)))\n",
        "print(\"f(E0 [ch])= {:5.3f} +/- {:5.3f} [MeV]\".format(lin(E0,a_ev,b_ev),dlin(E0,a_ev,b_ev,dE0,da_ev,db_ev)))\n",
        "\n",
        "ch_eV=[E0,E4p5]\n",
        "dch_eV=[dE0,dE4p5]\n",
        "hight_eV=[lin(E0,a_ev,b_ev),lin(E4p5,a_ev,b_ev)]\n",
        "dhight_eV=[dlin(E0,a_ev,b_ev,dE0,da_ev,db_ev),dlin(E4p5,a_ev,b_ev,dE4p5,da_ev,db_ev)]\n",
        "fig = plt.figure(figsize=(6, 4))\n",
        "plt.errorbar(ch_eV,hight_eV,dhight_eV,dch_eV,fmt=\"o\",label='ch vs energy data (calibrated)')\n",
        "plt.plot(x,y,label='ch vs energy fit')\n",
        "plt.xlabel('MCA channel [ch]', fontsize=18, fontfamily='serif')#x軸の名前\n",
        "plt.ylabel('Signal Energy [MeV]', fontsize=18, fontfamily='serif')#y軸の名前\n",
        "plt.legend(loc='upper left')\n",
        "plt.show()\n",
        "\n"
      ],
      "metadata": {
        "id": "6jCbp1EE1kkK",
        "outputId": "ff91724a-e471-416b-a07d-5e146aa855ec",
        "colab": {
          "base_uri": "https://localhost:8080/",
          "height": 470
        }
      },
      "execution_count": null,
      "outputs": []
    },
    {
      "cell_type": "markdown",
      "source": [
        "f(ch)の出力は誤差の範囲で意図したエネルギーを示しているでしょうか？それが確認できたら、キャリブレーションは完了です。以下ではこの関数をチャンネル数からエネルギーへの変換関数として用います。"
      ],
      "metadata": {
        "id": "dlBSdSorYhW-"
      }
    },
    {
      "cell_type": "markdown",
      "source": [
        "# 1.2. 線源の強度測定"
      ],
      "metadata": {
        "id": "Ngt4yUqX6Y3D"
      }
    },
    {
      "cell_type": "markdown",
      "source": [
        "続いて1.1.でキャリブレーションに用いたデータを用いて、ターゲットに入射する信号の強度を計算します。それには、線源からセンサーへの見込み角、線源からターゲットまでの見込み角を計算する必要があり、また線源の強度を推定する必要があります。\n",
        "\n",
        "また、のちの計算のためにターゲットからセンサーへの見込み角も計算します。\n",
        "\n",
        "一般に見込み角は\n",
        "$$\n",
        "\\Delta\\Omega=\\frac{S}{r^2}\n",
        "$$\n",
        "で与えられます。\n",
        "\n",
        "テキストで与えられている実験装置のジオメトリを用いて1.2.1.から1.2.3の計算を行います。"
      ],
      "metadata": {
        "id": "6diuwc6M6jEu"
      }
    },
    {
      "cell_type": "code",
      "source": [
        "# @title 1.2.1. 線源からセンサーまでの見込み角\n",
        "\n",
        "drs=\"値を入れる\" #mm センサー手前のウィンドウ幅\n",
        "Lrs=\"値を入れる\" #mm 線源からセンサーまでの距離\n",
        "\n",
        "if type(drs) is str:\n",
        "  print(\"drsに数値を入力してください\")\n",
        "if type(Lrs) is str:\n",
        "  print(\"Lrsに数値を入力してください\")\n",
        "if type(drs) is not str and type(Lrs) is not str:\n",
        "  drs=float(drs)\n",
        "  Lrs=float(Lrs)\n",
        "  S2=np.pi*drs**2 #センサー手前のウィンドウ面積\n",
        "  dOmega_RtoS=S2/Lrs**2 #線源からセンサーまでの見込み角\n",
        "  print(\"線源からセンサーまでの見込み角={:10.3e} [sr]\".format(dOmega_RtoS))"
      ],
      "metadata": {
        "id": "IhEP2OmcaOsf",
        "outputId": "ac58cd63-5379-4d97-9af3-28d0769e5204",
        "colab": {
          "base_uri": "https://localhost:8080/"
        }
      },
      "execution_count": 87,
      "outputs": [
        {
          "output_type": "stream",
          "name": "stdout",
          "text": [
            "drsに数値を入力してください\n",
            "Lrsに数値を入力してください\n"
          ]
        }
      ]
    },
    {
      "cell_type": "code",
      "source": [
        "# @title 1.2.2. 線源からターゲットの見込み角\n",
        "\n",
        "drt=\"値を入れる\" #mm ターゲット手前のウィンドウ幅\n",
        "Lrt=\"値を入れる\" #mm 線源からターゲット手前のウィンドウまでの距離\n",
        "\n",
        "if type(drt) is str:\n",
        "  print(\"drtに数値を入力してください\")\n",
        "if type(Lrt) is str:\n",
        "  print(\"Lrtに数値を入力してください\")\n",
        "if type(drt) is not str and type(Lrt) is not str:\n",
        "  drt=float(drt)\n",
        "  Lrt=float(Lrt)\n",
        "  S1=np.pi*drt**2 #センサー手前のウィンドウ面積\n",
        "  dOmega_RtoT=S1/Lrt**2 #線源からターゲットの見込み角\n",
        "  #オプション課題：ターゲット手前のウィンドウの傾きを考慮するとどうなるか検討する\n",
        "  print(\"線源からターゲットまでの見込み角={:10.3e} [sr]\".format(dOmega_RtoT))\n",
        "\n"
      ],
      "metadata": {
        "id": "91kM37a38rPU",
        "outputId": "8d51aca6-12b4-4f23-9f86-d421c72397cc",
        "colab": {
          "base_uri": "https://localhost:8080/"
        }
      },
      "execution_count": 93,
      "outputs": [
        {
          "output_type": "stream",
          "name": "stdout",
          "text": [
            "drtに数値を入力してください\n",
            "Lrtに数値を入力してください\n"
          ]
        }
      ]
    },
    {
      "cell_type": "code",
      "source": [
        "# @title 1.2.3. ターゲットからセンサーでの見込み角\n",
        "\n",
        "Lts=\"値を入れる\" #mm ターゲットからセンサーまでの距離\n",
        "if type(Lts) is str:\n",
        "  print(\"Ltsに数値を入力してください\")\n",
        "if type(Lts) is not str:\n",
        "  dOmega_TtoS=S2/Lts**2 #ターゲットからセンサーまでの見込み角\n",
        "  print(\"ターゲットからセンサーまでの見込み角={:10.3e} [sr]\".format(dOmega_TtoS))"
      ],
      "metadata": {
        "id": "1we3PWn69eLy",
        "outputId": "d5df04b3-1a8a-4b23-931b-2b0f8c6e791f",
        "colab": {
          "base_uri": "https://localhost:8080/"
        }
      },
      "execution_count": 92,
      "outputs": [
        {
          "output_type": "stream",
          "name": "stdout",
          "text": [
            "Ltsに数値を入力してください\n"
          ]
        }
      ]
    },
    {
      "cell_type": "markdown",
      "source": [
        "ここまでで計算した見込み角を用いると、線源そのものの強度と、ターゲットに入射する信号の強度が計算できます。1.2.4.,1.2.5.で計算します。"
      ],
      "metadata": {
        "id": "Mf1K2HLI9pvi"
      }
    },
    {
      "cell_type": "code",
      "source": [
        "# @title 1.2.4. 線源強度\n",
        "\n",
        "Ncalib=np.sum(alpha_calib)#キャリブレーションのデータ測定で得られたイベント数を全て足す\n",
        "\n",
        "B0=Ncalib/Tcalib*4*np.pi/dOmega_RtoS#線源強度\n",
        "dB0=np.sqrt(Ncalib)/Tcalib*4*np.pi/dOmega_RtoS#統計誤差\n",
        "#オプション課題：不感時間を考慮するとどうなるか検討する\n",
        "print(\"測定時間 {:.0f} [sec] 測定回数 {:8.3e} -> 線源強度={:10.3e} +/- {:7.1e} [Bq]\".format(Tcalib,Ncalib,B0,dB0))\n"
      ],
      "metadata": {
        "id": "yLtm7N0a8jIU",
        "outputId": "1f4b1c7d-c73d-4dc2-f40c-11884fe374a5",
        "colab": {
          "base_uri": "https://localhost:8080/",
          "height": 220
        }
      },
      "execution_count": null,
      "outputs": []
    },
    {
      "cell_type": "code",
      "source": [
        "# @title 1.2.5. ターゲットに入射する信号強度\n",
        "B=B0*dOmega_RtoT/4/np.pi\n",
        "dB=dB0*dOmega_RtoT/4/np.pi\n",
        "print(\"ターゲットに入射する信号強度={:6.1f} +/- {:6.1f} [Bq]\".format(B,dB))"
      ],
      "metadata": {
        "id": "SJRqwGBu-N_a",
        "outputId": "63756b6d-472d-44ea-c6b7-cb497b16ca3a",
        "colab": {
          "base_uri": "https://localhost:8080/"
        }
      },
      "execution_count": null,
      "outputs": []
    },
    {
      "cell_type": "markdown",
      "source": [
        "公称値2 MBqに対して測定された強度は妥当か検討してください。"
      ],
      "metadata": {
        "id": "y91g3t8Wc3Qr"
      }
    },
    {
      "cell_type": "markdown",
      "source": [
        "# 1.3. 薄膜の厚さ測定"
      ],
      "metadata": {
        "id": "MMP8PwDN6pyi"
      }
    },
    {
      "cell_type": "markdown",
      "source": [
        "続いて薄膜の厚さを測定します。テキストにあるように、薄膜を通過したアルファ線のエネルギーを評価することで、厚さを計算することができます。\n",
        "\n",
        "実験の進行状況に応じて、以下のいずれかを行ってください。\n",
        "\n",
        "*   シミュレーションデータで行う場合: 1.3.1.を実行\n",
        "*   実験データ分布を全て用いる場合: 1.3.2.を実行\n",
        "\n",
        "続けて1.3.3.及び1.3.4を実行して、アルファ線のエネルギーを導出します。"
      ],
      "metadata": {
        "id": "4-s4Avgi_F94"
      }
    },
    {
      "cell_type": "code",
      "source": [
        "# @title 1.3.2. 薄膜厚さ測定データ入力\n",
        "#実データ用。ファイル名は適宜書き換えること\n",
        "Aldeg0 = np.genfromtxt(basePath+'Al0deg60sec.csv', skip_footer=6)\n",
        "Audeg0 = np.genfromtxt(basePath+'Au0deg60sec.csv', skip_footer=6)"
      ],
      "metadata": {
        "id": "suuSsiO_j24j"
      },
      "execution_count": null,
      "outputs": []
    },
    {
      "cell_type": "code",
      "source": [
        "# @title 1.3.3. 薄膜厚さ測定用ガウシアンフィッティング\n",
        "\n",
        "fig = plt.figure(figsize=(6, 4))\n",
        "ax = fig.add_subplot(111)\n",
        "_ = ax.hist(x, bins=1024, weights=alpha_calib, range=(0, 1024), alpha=0.5, label='Without target')\n",
        "plt.xlabel('MCA channel [ch]', fontsize=18, fontfamily='serif')#x軸の名前\n",
        "plt.ylabel('Event count', fontsize=18, fontfamily='serif')#y軸の名前\n",
        "\n",
        "#Alに関する処理\n",
        "dy=np.where(Aldeg0 > 0, np.sqrt(Aldeg0), 1.0)\n",
        "par_Al, cov_Al = curve_fit(gaussian, x, Aldeg0, p0=(np.max(Aldeg0), np.argmax(Aldeg0), 30), sigma=dy)\n",
        "perr_Al = np.sqrt(np.diag(cov_Al))\n",
        "mat = np.vstack((par_Al,perr_Al)).T\n",
        "df = pd.DataFrame(mat,index=(\"Constant\", \"Mean\", \"Sigma\"), columns=(\"Estimate\", \"Std. error\"))\n",
        "print(df)\n",
        "y = gaussian(x, *par_Al)\n",
        "_ = ax.plot(x, y, '-', label='fitAl')\n",
        "print(\"ch after Al: {:5.1f}+/-{:5.1f}\".format(par_Al[1],perr_Al[1]))#中心値とその誤差を出力\n",
        "\n",
        "#Auに関する処理\n",
        "dy=np.where(Audeg0 > 0, np.sqrt(Audeg0), 1.0)\n",
        "par_Au, cov_Au = curve_fit(gaussian, x, Audeg0, p0=(np.max(Audeg0), np.argmax(Audeg0), 25), sigma=dy)\n",
        "perr_Au = np.sqrt(np.diag(cov_Au))\n",
        "mat = np.vstack((par_Au,perr_Au)).T\n",
        "df = pd.DataFrame(mat,index=(\"Constant\", \"Mean\", \"Sigma\"), columns=(\"Estimate\", \"Std. error\"))\n",
        "print(df)\n",
        "y = gaussian(x, *par_Au)\n",
        "_ = ax.plot(x, y, '-', label='fitAu')\n",
        "print(\"ch after Au: {:5.1f}+/-{:5.1f}\".format(par_Au[1],perr_Au[1]))#中心値とその誤差を出力\n",
        "\n",
        "_ = ax.hist(x, bins=1024, weights=Aldeg0, range=(0, 1024), alpha=0.5, label='Al calibration data')\n",
        "_ = ax.hist(x, bins=1024, weights=Audeg0, range=(0, 1024), alpha=0.5, label='Au calibration data')\n",
        "plt.legend(loc='upper left')\n"
      ],
      "metadata": {
        "id": "72ZReBPBecBg",
        "outputId": "c1793b91-69a8-48bf-bdb9-015a8ca3e5d5",
        "colab": {
          "base_uri": "https://localhost:8080/",
          "height": 588
        }
      },
      "execution_count": null,
      "outputs": []
    },
    {
      "cell_type": "code",
      "source": [
        "# @title 1.3.4. 薄膜厚さ測定チャンネル数からエネルギーへ変換\n",
        "\n",
        "#Alに関する変換\n",
        "EAlreco=lin(par_Al[1],par_line[0],par_line[1])\n",
        "dEAlreco=dlin(par_Al[1],par_line[0],par_line[1],perr_Al[1],perr_line[0],perr_line[1])\n",
        "print(\"Al通過後のアルファ線のエネルギー : {:8.3f} +/- {:8.3f} MeV\".format(EAlreco,dEAlreco))\n",
        "\n",
        "#Auに関する変換\n",
        "EAureco=lin(par_Au[1],par_line[0],par_line[1])\n",
        "dEAureco=dlin(par_Au[1],par_line[0],par_line[1],perr_Au[1],perr_line[0],perr_line[1])\n",
        "print(\"Au 通過後のアルファ線のエネルギー : {:8.3f} +/- {:8.3f} MeV\".format(EAureco,dEAureco))"
      ],
      "metadata": {
        "id": "YwNM0rkiBdZw",
        "outputId": "2fc5627a-bc81-4ebf-c3f7-47780b45e423",
        "colab": {
          "base_uri": "https://localhost:8080/"
        }
      },
      "execution_count": null,
      "outputs": []
    },
    {
      "cell_type": "markdown",
      "source": [
        "エネルギーはテキストにある理論曲線から厚さに変換することができます。\n",
        "\n",
        "まずは1.3.5で理論曲線をフィットし、厚さとエネルギーの関係式を求めます。\n",
        "\n",
        "更にその関係式から各薄膜の厚さを計算します。"
      ],
      "metadata": {
        "id": "YLfR97uhjaBj"
      }
    },
    {
      "cell_type": "code",
      "source": [
        "# @title 1.3.5.テキストにある理論値のフィッティング\n",
        "\n",
        "#テキストにある理論値\n",
        "Ealphatheo=[1.5, 2.0, ...]#アルファ線のエネルギー[MeV]\n",
        "EAltheo=[\"値を入れる\"]#Al中の飛程[um]\n",
        "EAutheo=[\"値を入れる\"]#Au中の飛程[um]\n",
        "\n",
        "#Alに関するフィッティング\n",
        "par_Al_line, cov_Al_line = curve_fit(lin, Ealphatheo, EAltheo)#アルファ線のエネルギー[MeV]->アルファ線が飛べるAlの厚さ[um]の式をフィッティング\n",
        "perr_Al_line = np.sqrt(np.diag(cov_Al_line))\n",
        "mat = np.vstack((par_Al_line,perr_Al_line)).T\n",
        "df = pd.DataFrame(mat,index=(\"Slope\", \"Offset\"), columns=(\"Estimate\", \"Std. error\"))\n",
        "print(df)\n",
        "\n",
        "#Auに関するフィッティング\n",
        "par_Au_line, cov_Au_line = curve_fit(lin, Ealphatheo, EAutheo)#アルファ線のエネルギー[MeV]->アルファ線が飛べるAlの厚さ[um]の式をフィッティング\n",
        "perr_Au_line = np.sqrt(np.diag(cov_Au_line))\n",
        "mat = np.vstack((par_Au_line,perr_Au_line)).T\n",
        "df = pd.DataFrame(mat,index=(\"Slope\", \"Offset\"), columns=(\"Estimate\", \"Std. error\"))\n",
        "print(df)\n",
        "\n",
        "#プロット\n",
        "plt.scatter(Ealphatheo,EAltheo,marker=\"o\",label='Al theory')#理論値Al\n",
        "plt.scatter(Ealphatheo,EAutheo,marker=\"o\",label='Au theory')#理論値Au\n",
        "plt.xlabel('Alpha ray energy [MeV]', fontsize=18, fontfamily='serif')#x軸の名前\n",
        "plt.ylabel('Alpha ray range [μm]', fontsize=18, fontfamily='serif')#y軸の名前\n",
        "x_func = np.arange(1.5,5.5)\n",
        "y_funcAl = par_Al_line[0]*x_func + par_Al_line[1]\n",
        "y_funcAu = par_Au_line[0]*x_func + par_Au_line[1]\n",
        "plt.plot(x_func,y_funcAl,'b',label='Al fit')\n",
        "plt.plot(x_func,y_funcAu,'r',label='Au fit')\n",
        "plt.scatter(EAlreco,par_Al_line[0]*EAlreco+par_Al_line[1],marker=\"*\",color='b',label='Al data')#測定値Al\n",
        "plt.scatter(EAureco,par_Au_line[0]*EAureco+par_Au_line[1],marker=\"*\",color='r',label='Au data')#測定値Au\n",
        "plt.legend(loc='upper left')\n"
      ],
      "metadata": {
        "id": "a0kBz1EdgLHn",
        "outputId": "a67aef65-9f4c-4bd6-b5f8-621b11296f8a",
        "colab": {
          "base_uri": "https://localhost:8080/",
          "height": 580
        }
      },
      "execution_count": null,
      "outputs": []
    },
    {
      "cell_type": "code",
      "source": [
        "# @title 1.3.6.エネルギーから厚さへの変換\n",
        "\n",
        "#厚さとエネルギーの関係式から、Al薄膜の厚さを求める\n",
        "RAl=lin(EAlreco,par_Al_line[0],par_Al_line[1])#測定された、残りのエネルギーで飛べるAlの厚さ\n",
        "dRAl=dlin(EAlreco,par_Al_line[0],par_Al_line[1],dEAlreco,perr_Al_line[0],perr_Al_line[1])#その誤差\n",
        "dxAl=18.618-RAl#アルファ線が飛んできたAlの厚さ\n",
        "print(\"Al残り飛程: {:10.2f} +/- {:10.2f} [um] -> 厚さdx={:10.2f} +/- {:10.2f} [um]\".format(RAl,dRAl,dxAl,dRAl))\n",
        "\n",
        "#以下Auに関して同様\n",
        "RAu=lin(EAureco,par_Au_line[0],par_Au_line[1])\n",
        "dRAu=dlin(EAureco,par_Au_line[0],par_Au_line[1],dEAureco,perr_Au_line[0],perr_Au_line[1])\n",
        "dxAu=8.001-RAu\n",
        "print(\"Au残り飛程: {:10.2f} +/- {:10.2f} [um] -> 厚さdx={:10.2f} +/- {:10.2f} [um]\".format(RAu,dRAu,dxAu,dRAu))"
      ],
      "metadata": {
        "id": "SXOFbxonETvh",
        "outputId": "2311c9c1-781d-4ce1-abfc-9c8f1ec1c141",
        "colab": {
          "base_uri": "https://localhost:8080/"
        }
      },
      "execution_count": null,
      "outputs": []
    },
    {
      "cell_type": "markdown",
      "source": [
        "求められた厚さを公称値と比較してください。\n",
        "\n",
        "以上で装置のキャリブレーション・測定が完了しました。"
      ],
      "metadata": {
        "id": "D5hs_Dc2k_4o"
      }
    },
    {
      "cell_type": "markdown",
      "source": [
        "# 2.測定値の推定"
      ],
      "metadata": {
        "id": "tUekrcSPFlAD"
      }
    },
    {
      "cell_type": "markdown",
      "source": [
        "1.で得られた値を基に、大角度の散乱現象の測定計画を立てます。\n",
        "\n",
        "まずは2.1.1.を実行して測定・計算された値を振り返りましょう。また厚さの値を用いて2.1.2.で単位面積当たりの原子数を計算しましょう。"
      ],
      "metadata": {
        "id": "WgXmixOIFwry"
      }
    },
    {
      "cell_type": "code",
      "source": [
        "# @title 2.1.1.測定・計算された値の振り返り\n",
        "print(\"ターゲットに入射する信号強度={:6.1f} +/- {:6.1f} [Bq]\".format(B,dB))\n",
        "print(\"ターゲットから線源までの見込み角={:10.3e} [sr]\".format(dOmega_TtoS))\n",
        "print(\"Al厚さdx={:10.2f} +/- {:10.2f} [um]\".format(dxAl,dRAl))\n",
        "print(\"Au厚さdx={:10.2f} +/- {:10.2f} [um]\".format(dxAu,dRAu))\n",
        "print(\"キャリブレーションを行った時間={:4.0f}[sec]\".format(Tcalib))"
      ],
      "metadata": {
        "id": "8sBC3qDcQVA5",
        "outputId": "80b120e9-6e63-4bcb-aa2f-405c05c24147",
        "colab": {
          "base_uri": "https://localhost:8080/"
        }
      },
      "execution_count": null,
      "outputs": []
    },
    {
      "cell_type": "code",
      "source": [
        "# @title 2.1.2.原子密度の計算\n",
        "#計算用パラメタ\n",
        "NA=\"値を入れる\"#[cont/mol]\n",
        "Al_weight=\"値を入れる\"#[g/mol]\n",
        "Au_weight=\"値を入れる\"#[g/mol]\n",
        "#Al密度計算\n",
        "NAl=dxAl*1e-4*\"値を入れる\"*NA/Al_weight #dxAl[cm]*\"値を入れる\"[g/cm^3]*NA[count/mol]/weight[g/mol]\n",
        "dNAl=dRAl*1e-4*\"値を入れる\"*NA/Al_weight\n",
        "print(\"単位面積当たりアルミニウム原子数={:10.1e} [1/cm^2]={:10.1e} [1/fm^2]\".format(NAl,NAl*1e-26))\n",
        "#Au密度計算\n",
        "NAu=dxAu*1e-4*\"値を入れる\"*NA/Au_weight\n",
        "dNAu=dRAu*1e-4*\"値を入れる\"*NA/Au_weight\n",
        "print(\"単位面積当たり金原子数={:10.1e} [1/cm^2]={:10.1e} [1/fm^2]\".format(NAu,NAu*1e-26))\n",
        "print(\"\")"
      ],
      "metadata": {
        "id": "6sO_Vp42SDFQ",
        "outputId": "3ad97236-96b2-4464-9f20-24c4b8de4c6e",
        "colab": {
          "base_uri": "https://localhost:8080/"
        }
      },
      "execution_count": null,
      "outputs": []
    },
    {
      "cell_type": "markdown",
      "source": [
        "続いて2.1.3.で仮に実験計画のパラメタ設定をしてから、2.1.4.で各薄膜で散乱現象が起こる確率\n",
        "$$\n",
        "\\frac{dσ}{d\\Omega}(θ,ϕ)=(\\frac{zZe^2}{4E_{α}})^2\\frac{1}{\\sin^4(θ/2)}\n",
        "$$\n",
        "を計算します。"
      ],
      "metadata": {
        "id": "sZPjriYuQeYK"
      }
    },
    {
      "cell_type": "code",
      "source": [
        "# @title 2.1.3.測定計画パラメタの設定\n",
        "theta=\"値を入れる\"\n",
        "t=\"時間を入れる\"*60*60#sec\n",
        "print(\"測定時間{:10.0f}秒={:10.0f}分\".format(t,t/60))"
      ],
      "metadata": {
        "id": "kHmH-2yhRlRY",
        "outputId": "f7db8f48-4c6b-4c2d-ff06-32c43928a934",
        "colab": {
          "base_uri": "https://localhost:8080/"
        }
      },
      "execution_count": null,
      "outputs": []
    },
    {
      "cell_type": "code",
      "source": [
        "# @title 2.1.4.散乱確率の見積もり\n",
        "#計算用パラメタ\n",
        "z = 2  # alpha は4He 2+\n",
        "ZAl = 13  # Alの陽子数は13\n",
        "ZAu = 79  # Auの陽子数は79\n",
        "hbarc = 197.3\n",
        "alpha = 1/137.\n",
        "e2 = hbarc*alpha\n",
        "E = 4.5\n",
        "\n",
        "#Al散乱確率計算\n",
        "AAl = (z*ZAl*e2/4/E)**2\n",
        "dsigmadOmegaAl=AAl*(np.sin(np.radians(theta)/2))**-4\n",
        "print(\"dsigma/dOmega(Al)={:10.1e}[fm^2/sr]\".format(dsigmadOmegaAl))\n",
        "\n",
        "#Au散乱確率計算\n",
        "AAu = (z*ZAu*e2/4/E)**2\n",
        "dsigmadOmegaAu=AAu*(np.sin(np.radians(theta)/2))**-4\n",
        "print(\"dsigma/dOmega(Au)={:10.1e}[fm^2/sr]\".format(dsigmadOmegaAu))\n",
        "\n",
        "fig = plt.figure(figsize=(6, 6))\n",
        "ax = fig.add_subplot(111)\n",
        "x=np.arange(5,90)#プロットするx軸のbinを設定\n",
        "fAl=AAl*(np.sin(np.radians(x)/2))**-4\n",
        "fAu=AAu*(np.sin(np.radians(x)/2))**-4\n",
        "ax.plot(x, fAl, 'b-',label='Al theory')\n",
        "ax.plot(x, fAu, 'r-',label='Au theory')\n",
        "plt.scatter(theta,dsigmadOmegaAl,marker=\"o\",color=\"b\",label='Al expected')#理論値Al\n",
        "plt.scatter(theta,dsigmadOmegaAu,marker=\"o\",color=\"r\",label='Au expected')#理論値Al\n",
        "plt.yscale('log')  # ログスケール\n",
        "ax.set_xlabel(r'$\\theta$ (deg.)')\n",
        "ax.set_ylabel(r'$d\\sigma/d\\Omega$ (fm$^2$)')\n",
        "plt.legend(loc='upper right')"
      ],
      "metadata": {
        "id": "saF2AhjHRKDw",
        "outputId": "0d23e595-6d5e-4672-f335-49cc48bccc63",
        "colab": {
          "base_uri": "https://localhost:8080/",
          "height": 598
        }
      },
      "execution_count": null,
      "outputs": []
    },
    {
      "cell_type": "markdown",
      "source": [
        "値は全て揃いました。0.で与えた関係式を用いて、予想される信号数を2.1.5.で計算します。"
      ],
      "metadata": {
        "id": "9j4NLwvzUc6v"
      }
    },
    {
      "cell_type": "code",
      "source": [
        "# @title 2.1.5.散乱事象観測数の見積もり\n",
        "N_expectedAl=B*t*NAl*1e-26*dsigmadOmegaAl*dOmega_TtoS\n",
        "dN_expectedAl=B*t*NAl*1e-26*dsigmadOmegaAl*dOmega_TtoS*np.sqrt((dB/B)**2+(1/np.sqrt(NAl)**2)+(dNAl/NAl)**2)\n",
        "print(\"推定測定回数(Al)={:10.1e}+/-{:10.1e}\".format(N_expectedAl,dN_expectedAl))\n",
        "N_expectedAu=B*t*NAu*1e-26*dsigmadOmegaAu*dOmega_TtoS\n",
        "dN_expectedAu=B*t*NAu*1e-26*dsigmadOmegaAu*dOmega_TtoS*np.sqrt((dB/B)**2+(1/np.sqrt(NAu)**2)+(dNAu/NAu)**2)\n",
        "print(\"推定測定回数(Au)={:10.1e}+/-{:10.1e}\".format(N_expectedAu,dN_expectedAu))"
      ],
      "metadata": {
        "id": "tuXrpHY1U0H-",
        "outputId": "9683d647-7319-4afd-d215-77f471c444d2",
        "colab": {
          "base_uri": "https://localhost:8080/"
        }
      },
      "execution_count": null,
      "outputs": []
    },
    {
      "cell_type": "markdown",
      "source": [
        "推定された値はラザフォード散乱を\"発見\"するうえで十分だといえるでしょうか？2.1.3のパラメタを変更して様々なケースの推定を行ってみましょう。\n",
        "\n",
        "オプション課題:小角度散乱の場合は多くの事象が期待されます。短時間の測定回数を高精度で予測できるでしょうか？寄与の大きな誤差は？"
      ],
      "metadata": {
        "id": "cKhwvP0xVNIO"
      }
    }
  ]
}
