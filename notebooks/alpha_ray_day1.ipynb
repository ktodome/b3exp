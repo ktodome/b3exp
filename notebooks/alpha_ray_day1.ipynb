{
  "nbformat": 4,
  "nbformat_minor": 0,
  "metadata": {
    "colab": {
      "provenance": []
    },
    "kernelspec": {
      "name": "python3",
      "display_name": "Python 3"
    },
    "language_info": {
      "name": "python"
    }
  },
  "cells": [
    {
      "cell_type": "markdown",
      "source": [
        "# 0. はじめに"
      ],
      "metadata": {
        "id": "_ornFGi8tavV"
      }
    },
    {
      "cell_type": "markdown",
      "source": [
        "物理学の実験においては、事前に測定値を予測することが可能な様々な理論式が知られています。理論式を検証するために実験を行うこともあれば、理論式に合わない実験結果を説明するために新たな理論が提唱されることもあります。ここではラザフォード散乱の式を例にとり、理論式を用いた予想と検証を行います。ラザフォード散乱による散乱事象の数$N_{exp}$は\n",
        "\n",
        "$$\n",
        "N_{exp}=B⋅t⋅N\\frac{dσ}{d\\Omega}(θ,ϕ)\\cdotΔΩ\n",
        "$$\n",
        "\n",
        "と推測されます。$B$は単位時間に標的に入射するアルファ線数、$t$は測定時間、$N$は薄膜の単位面積あたりに存在する原子数、$dσ/d\\Omega$は単位立体角当たりのラザフォード散乱の確率、$ΔΩ$はセンサーの見込み角です。これら推測に必要な各種パラメタを測定し、具体的な事象数の推測をこのノートでは目指します。\n",
        "\n",
        "このノートでは、実験前から結果を予想して議論するために、ダミーのデータを生成できるようになっています。データを取得したら置き換えることで、実際のデータに即した議論ができます。\n",
        "\n",
        "pythonやjupyter notebookの基本的な使い方に関しては、内田誠氏作成の[こちらのノートブック](https://github.com/ktodome/b3exp/blob/master/notebooks/01_python_basics.ipynb)などを参考にしてください。\n",
        "\n",
        "まずは以下のセルを実行して、本ノートブックの操作に必要な設定を行います。"
      ],
      "metadata": {
        "id": "uVnVNEU_ulnz"
      }
    },
    {
      "cell_type": "code",
      "source": [
        "# @title 0.1. 必要設定の読み込み\n",
        "\n",
        "#スクリプト実行に必要なパッケージ。\n",
        "import numpy as np\n",
        "import pandas as pd\n",
        "import matplotlib.pyplot as plt\n",
        "from scipy.optimize import curve_fit\n",
        "from scipy.stats import poisson,norm\n",
        "\n",
        "#用いる関数を定義\n",
        "def sig(x, a, m, s):#ガウシアン\n",
        "    return a*np.exp(-0.5*(x-m)**2/s**2)\n",
        "\n",
        "def lin(x,a,b):\n",
        "    return a*x+b\n",
        "\n",
        "def dlin(x,a,b,dx,da,db):#直線フィッティングの誤差導出用関数\n",
        "    dy=(x*da)**2\n",
        "    dy+=(dx*a)**2\n",
        "    dy+=db**2\n",
        "    dy=np.sqrt(dy)\n",
        "    #print(\"{:10.4f}, {:10.4f}, {:10.4f}\".format((x*da),dx*a,db))\n",
        "    return dy"
      ],
      "metadata": {
        "id": "hALijMvCIlMl",
        "cellView": "form"
      },
      "execution_count": 2,
      "outputs": []
    },
    {
      "cell_type": "code",
      "source": [
        "# @title 0.2. Googleドライブのマウント(オプション)\n",
        "\n",
        "#実験データなど、Googleドライブにあるファイルにアクセスしたい場合に実行する。自分のアカウントで要認証。ダミーデータで取り組む場合は実行不要\n",
        "from google.colab import drive\n",
        "drive.mount('/content/drive')"
      ],
      "metadata": {
        "id": "Pf4oCsuAI7qc",
        "cellView": "form"
      },
      "execution_count": null,
      "outputs": []
    },
    {
      "cell_type": "markdown",
      "source": [
        "# 1.実験装置のキャリブレーション・測定"
      ],
      "metadata": {
        "id": "UzjSp9-TvF-6"
      }
    },
    {
      "cell_type": "markdown",
      "source": [
        "この実験ではα線源、金及びアルミ薄膜、SSDを用います。それぞれの性能の公称値は以下です。\n",
        "*   線源：　2 MBq (1 Bq = 1 event/sec)\n",
        "*   金箔：　1 μm, 19.3g/cm^3\n",
        "*   アルミ箔：　10 μm, 2.69 g/cm^3\n",
        "\n",
        "これらの公称値を参考にしつつ、装置のキャリブレーション(較正)と実際の厚さの測定を行います。"
      ],
      "metadata": {
        "id": "kQvtkddHJtY3"
      }
    },
    {
      "cell_type": "markdown",
      "source": [
        "## 1.1. 装置のキャリブレーション"
      ],
      "metadata": {
        "id": "g_WKnekdveAR"
      }
    },
    {
      "cell_type": "markdown",
      "source": [
        "まずはスペクトルのエネルギーとチャンネルの関係を調べます。パルス波の大きさを変えながら、チャンネルがどのように変化するか調べ、**パルス波の大きさが0の時のチャンネルを0 MeV相当のエネルギーとして求めます**。\n",
        "\n",
        "実験の進行状況に応じて、以下のいずれかを行ってください。\n",
        "*   自分で読み取った実験データを用いる場合: 1.1.1.を編集して実行\n",
        "*   シミュレーションデータで行う場合: 1.1.2.,1.1.4.を実行\n",
        "*   実験データ分布を全て用いる場合: 1.1.2.,1.1.4.を実行\n",
        "\n",
        "（上記のいずれかをやり直すことで、その後のステップで取り扱うデータを入れ替えることもできます。）"
      ],
      "metadata": {
        "id": "2fLAxkQwvugi"
      }
    },
    {
      "cell_type": "code",
      "source": [
        "# @title 1.1.1. キャリブレーション用測定データ手入力\n",
        "\n",
        "#フィッティングせずにとりあえず目で読んだ値で進める場合。上記でフィッティングしている場合は不要。\n",
        "ch=np.array([774,695,620,543])#読み取った値に置き換える\n",
        "E=np.array([2.4,2.2,2.0,1.8])#適切な値に置き換える（パルス波の高さ等）\n",
        "\n",
        "dch=np.ones(ch.size)#誤差は1とする。編集不要"
      ],
      "metadata": {
        "id": "pAmSXMqrcTQ6",
        "cellView": "form"
      },
      "execution_count": null,
      "outputs": []
    },
    {
      "cell_type": "code",
      "source": [
        "# @title 1.1.2. キャリブレーション用シミュレーションデータ生成\n",
        "\n",
        "A=723 #仮の中心値\n",
        "dA=3 #仮の幅\n",
        "off=5 #仮のオフセット\n",
        "\n",
        "pulsar100 = np.random.normal(A+off, dA, 5000)#ガウス分布に従うイベントを5000個作る\n",
        "pulsar100, x = np.histogram(pulsar100, range=(0, 1024), bins=1024)#MCAの出力の形式（ヒストグラム）に変換する。以下中心のチャンネルを変えて繰り返し\n",
        "pulsar90 = np.random.normal(A*0.9+off, dA, 5000)\n",
        "pulsar90, x = np.histogram(pulsar90, range=(0, 1024), bins=1024)\n",
        "pulsar80 = np.random.normal(A*0.8+off, dA, 5000)\n",
        "pulsar80, x = np.histogram(pulsar80, range=(0, 1024), bins=1024)\n",
        "pulsar70 = np.random.normal(A*0.7+off, dA, 5000)\n",
        "pulsar70, x = np.histogram(pulsar70, range=(0, 1024), bins=1024)\n",
        "pulsar60 = np.random.normal(A*0.6+off, dA, 5000)\n",
        "pulsar60, x = np.histogram(pulsar60, range=(0, 1024), bins=1024)\n",
        "pulsar_list=[pulsar100, pulsar90, pulsar80, pulsar70, pulsar60]#各ヒストグラムを配列に入れなおす。後ほど一つずつ取り出して解析する。\n",
        "pulsar = pulsar100 + pulsar90 + pulsar80 + pulsar70 + pulsar60#プロット用に全て足し合わせたものも作る\n",
        "\n",
        "means = np.array([1,0.9,0.8,0.7,0.6])#フィッティング用におおよその中心の値を与える。\n",
        "means = A*means\n",
        "\n",
        "#デバッグ用\n",
        "print('check1:',pulsar100,pulsar100.size)\n",
        "print('check2:',pulsar,pulsar.size,means)"
      ],
      "metadata": {
        "id": "rUdUg-CyJTQN",
        "cellView": "form"
      },
      "execution_count": null,
      "outputs": []
    },
    {
      "cell_type": "code",
      "source": [
        "# @title 1.1.3. キャリブレーション用測定データ解析\n",
        "\n",
        "pulsar100 = np.genfromtxt('/content/drive/MyDrive/temp/b3exp/pulse2p4.csv', skip_footer=6)#パスと名前は適宜書き換えること\n",
        "pulsar90 = np.genfromtxt('/content/drive/MyDrive/temp/b3exp/pulse2p2.csv', skip_footer=6)\n",
        "pulsar80 = np.genfromtxt('/content/drive/MyDrive/temp/b3exp/pulse2p0.csv', skip_footer=6)\n",
        "pulsar70 = np.genfromtxt('/content/drive/MyDrive/temp/b3exp/pulse1p8.csv', skip_footer=6)\n",
        "pulsar60 = np.genfromtxt('/content/drive/MyDrive/temp/b3exp/pulse1p6.csv', skip_footer=6)\n",
        "pulsar50 = np.genfromtxt('/content/drive/MyDrive/temp/b3exp/pulse1p4.csv', skip_footer=6)\n",
        "pulsar_list=[pulsar100, pulsar90, pulsar80, pulsar70, pulsar60, pulsar50]#各ヒストグラムを配列に入れなおす。後ほど一つずつ取り出して解析する。\n",
        "pulsar = pulsar100 + pulsar90 + pulsar80 + pulsar70 + pulsar60 + pulsar50#プロット用に全て足し合わせたものも作る\n",
        "\n",
        "means = np.array([2.4,2.2,2.0,1.8,1.6,1.4])#フィッティング用におおよその中心の値を与える。\n",
        "means *= 765/2.4\n",
        "dA=50 #仮の幅\n",
        "\n",
        "#デバッグ用\n",
        "print('check1:',pulsar100,pulsar100.size)\n",
        "print('check2:',pulsar,pulsar.size,means)"
      ],
      "metadata": {
        "id": "SBoa5LWSLPOM",
        "cellView": "form"
      },
      "execution_count": null,
      "outputs": []
    },
    {
      "cell_type": "code",
      "source": [
        "# @title 1.1.4. キャリブレーション用ガウシアンフィッティング\n",
        "\n",
        "#ガウス分布を仮定して中心チャンネルを抽出するフィッティング。1.1.2,1.1.3で入力した分布に対してフィットが行われる。\n",
        "scaling_ch=713.91#うまく合わせるトリック\n",
        "#1.1.5のプロット用変数を定義\n",
        "ch = []\n",
        "dch = []\n",
        "E = []\n",
        "\n",
        "#プロット下地を作成\n",
        "fig = plt.figure(figsize=(6, 4))\n",
        "ax = fig.add_subplot(111)\n",
        "x=np.arange(1,1025)#プロットするx軸のbinを設定\n",
        "_ = ax.hist(x, bins=1024, weights=pulsar, range=(0, 1024), alpha=0.5, label='data')#全データのヒストグラムを作成\n",
        "plt.xlabel('MCA channel [ch]', fontsize=18, fontfamily='serif')#x軸の名前\n",
        "plt.ylabel('Event count', fontsize=18, fontfamily='serif')#y軸の名前\n",
        "\n",
        "for mean,pulsar_i in zip(means,pulsar_list):#入力したデータ数分繰り返し\n",
        "    E=np.append(E,mean/scaling_ch*4.5)#うまく合わせるトリック\n",
        "    y=pulsar_i#1ヒストグラム取り出し\n",
        "    dy=np.where(y > 0, np.sqrt(y), 1.0)#誤差は統計誤差の√nのみ,nが0なら0\n",
        "    par_gaus, cov_gaus = curve_fit(sig, x, y, p0=(100, mean, dA),sigma=dy)#適切な初期値を与えてフィッティング\n",
        "    perr_gaus = np.sqrt(np.diag(cov_gaus))#分散共分散行列の対角成分取り出し=分散の取り出し\n",
        "    #テキスト出力用成型\n",
        "    mat = np.vstack((par_gaus,perr_gaus)).T\n",
        "    df = pd.DataFrame(mat,index=(\"Constant\", \"Mean\", \"Sigma\"), columns=(\"Estimate\", \"Std. error\"))\n",
        "    #テキスト出力\n",
        "    print(mean,df)\n",
        "    #結果を記録\n",
        "    ch=np.append(ch,float(par_gaus[1]))\n",
        "    dch=np.append(dch,float(perr_gaus[1]))\n",
        "    print(\"{:3.2f} {:.3f} +/- {:.3f}\".format(E[-1],ch[-1],dch[-1]))\n",
        "    #フィット結果のプロットを追加\n",
        "    y = sig(x, *par_gaus)\n",
        "    _ = ax.plot(x, y, '-', label='fit{:5.1f}'.format(mean))\n",
        "plt.legend(loc='upper right')#凡例表示"
      ],
      "metadata": {
        "id": "I0qZZXSuNpM0",
        "cellView": "form"
      },
      "execution_count": null,
      "outputs": []
    },
    {
      "cell_type": "markdown",
      "source": [
        "上記でいくつかのパルス波の大きさの時にいくつかチャンネル数になるかが得られました。これを次の1.1.5.を実行することで、得られたデータ点を直線フィットします。更に1.1.6.で0 MeV相当のチャンネル数を得ます。"
      ],
      "metadata": {
        "id": "nl-ZiGlbd0NJ"
      }
    },
    {
      "cell_type": "code",
      "source": [
        "# @title 1.1.5. 直線フィッティング\n",
        "\n",
        "#中心チャンネルを結ぶよう直線フィッティングして、更に0 MeV相当のチャンネル数を算出。\n",
        "par_line, cov_line = curve_fit(lin, ch, E, sigma=dch)#f(ch+/-dch)=Eを直線(lin)でフィッティング\n",
        "perr_line = np.sqrt(np.diag(cov_line))#誤差抽出\n",
        "#テキスト出力\n",
        "mat = np.vstack((par_line,perr_line)).T\n",
        "df = pd.DataFrame(mat,index=(\"Slope\", \"Offset\"), columns=(\"Estimate\", \"Std. error\"))\n",
        "print(df)\n",
        "\n",
        "#プロット作成\n",
        "x_func = np.arange(0,1024)\n",
        "y_func = par_line[0]*x_func + par_line[1]\n",
        "\n",
        "plt.errorbar(ch,E,0,dch,fmt=\"o\")\n",
        "plt.plot(x_func,y_func)\n",
        "plt.xlabel('MCA channel [ch]', fontsize=18, fontfamily='serif')#x軸の名前\n",
        "plt.ylabel('Signal Eenergy [MeV]', fontsize=18, fontfamily='serif')#y軸の名前\n",
        "plt.show()"
      ],
      "metadata": {
        "id": "8h6MoTtVd4N4",
        "cellView": "form"
      },
      "execution_count": null,
      "outputs": []
    },
    {
      "cell_type": "code",
      "source": [
        "# @title 1.1.6. 0 MeV相当チャンネル導出\n",
        "E0=(0-par_line[1])/par_line[0]#E=a*ch+b -> ch=(E-b)/aで、今E=0を求める\n",
        "dE0=abs((0-par_line[1])/par_line[0]*np.sqrt((perr_line[0]/par_line[0])**2+(perr_line[1]/par_line[1])**2))#b,aにつく誤差をそれぞれ評価\n",
        "print(\"0 MeV= {:7.2f} +/- {:7.2f} ch\".format(E0,dE0))"
      ],
      "metadata": {
        "cellView": "form",
        "id": "fGobygPjzWoN"
      },
      "execution_count": null,
      "outputs": []
    },
    {
      "cell_type": "markdown",
      "source": [
        "続いてアルファ線が、途中標的を通過せずにセンサーに届いた場合の信号のチャンネル数を調べます。アルファ線のエネルギーが4.5 MeVであることを用いて、キャリブレーションのスケールを再決定します。\n",
        "\n",
        "実験の進行状況に応じて、以下のいずれかを行ってください。\n",
        "*   シミュレーションデータで行う場合: 1.1.7.を実行\n",
        "*   実験データ分布を全て用いる場合: 1.1.8.を実行\n",
        "\n",
        "続けて1.1.9.及び1.1.10.を実行して、キャリブレーションが適切に行われたか確認してください。"
      ],
      "metadata": {
        "id": "29Ob1RDbfOhn"
      }
    },
    {
      "cell_type": "code",
      "source": [
        "# @title 1.1.7. ターゲットなしシミュレーションデータ生成\n",
        "Ealpha=800 #仮の中心値\n",
        "dEalpha=25 #仮の幅\n",
        "\n",
        "alpha_calib = np.random.normal(Ealpha, dEalpha, 5000)\n",
        "alpha_calib, x = np.histogram(alpha_calib, range=(0, 1024), bins=1024)\n",
        "#x=np.arange(1,1025)\n",
        "#plt.plot(x, alpha_calib)"
      ],
      "metadata": {
        "id": "nU3TIASZf3-U",
        "cellView": "form"
      },
      "execution_count": null,
      "outputs": []
    },
    {
      "cell_type": "code",
      "source": [
        "# @title 1.1.8. ターゲットなし測定データ入力\n",
        "#実データ用。パスと名前は適宜書き換えること\n",
        "alpha_calib = np.genfromtxt('/content/drive/MyDrive/temp/b3exp/60sec0degNoTarget.csv', skip_footer=6)\n",
        "#x=np.arange(1,1025)\n",
        "#plt.plot(x, alpha_calib)"
      ],
      "metadata": {
        "id": "MaJJr_ESgorX",
        "cellView": "form"
      },
      "execution_count": null,
      "outputs": []
    },
    {
      "cell_type": "code",
      "source": [
        "# @title 1.1.9. ターゲットなしデータ用ガウシアンフィッティング\n",
        "\n",
        "#プロット下地を作成\n",
        "fig = plt.figure(figsize=(6, 4))\n",
        "ax = fig.add_subplot(111)\n",
        "x=np.arange(1,1025)#プロットするx軸のbinを設定\n",
        "_ = ax.hist(x, bins=1024, weights=alpha_calib, range=(0, 1024), alpha=0.5, label='data')#全データのヒストグラムを作成\n",
        "plt.xlabel('MCA channel [ch]', fontsize=18, fontfamily='serif')#x軸の名前\n",
        "plt.ylabel('Event count', fontsize=18, fontfamily='serif')#y軸の名前\n",
        "\n",
        "dy=np.where(alpha_calib > 0, np.sqrt(alpha_calib), 1.0)#誤差は統計誤差の√nのみ,nが0なら0\n",
        "par_calib, cov_calib = curve_fit(sig, x, alpha_calib, p0=(100, 800, 25), sigma=dy)#適切な初期値を与えてフィッティング\n",
        "perr_calib = np.sqrt(np.diag(cov_calib))#分散共分散行列の対角成分取り出し=分散の取り出し\n",
        "\n",
        "#テキスト出力\n",
        "mat = np.vstack((par_calib,perr_calib)).T\n",
        "df = pd.DataFrame(mat,index=(\"Constant\", \"Mean\", \"Sigma\"), columns=(\"Estimate\", \"Std. error\"))\n",
        "print(df)\n",
        "\n",
        "#フィット結果のプロットを追加\n",
        "y = sig(x, *par_calib)\n",
        "_ = ax.plot(x, y, '-', label='fit_calib')"
      ],
      "metadata": {
        "id": "mL9WVnbQg3wc",
        "cellView": "form"
      },
      "execution_count": null,
      "outputs": []
    },
    {
      "cell_type": "code",
      "source": [
        "# @title 1.1.10. 4.5 MeV相当チャンネル導出とキャリブレーション結果確認\n",
        "E4p5=par_calib[1]\n",
        "dE4p5=perr_calib[1]\n",
        "print(\"4.5 MeV= {:7.2f} +/- {:7.2f} ch\".format(E4p5,dE4p5))#4.5 MeV相当の結果は1.1.9.の\n",
        "\n",
        "#キャリブレーションされた関数で、測定されたチャンネル数から予想されたエネルギーの値が得られるか確認\n",
        "print(\"f(E4p5 [ch])= {:5.3f} +/- {:5.3f} [MeV]\".format(lin(E4p5,par_line[0],par_line[1]),dlin(E4p5,par_line[0],par_line[1],dE4p5,perr_line[0],perr_line[1])))\n",
        "print(\"f(E0 [ch])= {:5.3f} +/- {:5.3f} [MeV]\".format(lin(E0,par_line[0],par_line[1]),dlin(E0,par_line[0],par_line[1],dE0,perr_line[0],perr_line[1])))"
      ],
      "metadata": {
        "cellView": "form",
        "id": "6jCbp1EE1kkK"
      },
      "execution_count": null,
      "outputs": []
    },
    {
      "cell_type": "markdown",
      "source": [
        "f(ch)の出力は誤差の範囲で意図したエネルギーを示しているでしょうか？それが確認できたら、キャリブレーションは完了です。以下ではこの関数をチャンネル数からエネルギーへの変換関数として用います。"
      ],
      "metadata": {
        "id": "dlBSdSorYhW-"
      }
    },
    {
      "cell_type": "markdown",
      "source": [
        "# 1.2. 線源の強度測定"
      ],
      "metadata": {
        "id": "Ngt4yUqX6Y3D"
      }
    },
    {
      "cell_type": "markdown",
      "source": [
        "続いて1.1.でキャリブレーションに用いたデータを用いて、ターゲットに入射する信号の強度を計算します。それには、線源からセンサーへの見込み角、線源からターゲットまでの見込み角を計算する必要があり、また線源の強度を推定する必要があります。\n",
        "\n",
        "また、のちの計算のためにターゲットからセンサーへの見込み角も計算します。\n",
        "\n",
        "一般に見込み角は\n",
        "$$\n",
        "\\Delta\\Omega=\\frac{S}{r^2}\n",
        "$$\n",
        "で与えられます。\n",
        "\n",
        "テキストで与えられている実験装置のジオメトリを用いて1.2.1.から1.2.3の計算を行います。"
      ],
      "metadata": {
        "id": "6diuwc6M6jEu"
      }
    },
    {
      "cell_type": "code",
      "source": [
        "# @title 1.2.1. 線源からセンサーまでの見込み角\n",
        "\n",
        "drs=6/2 #mm センサー手前のウィンドウ幅\n",
        "Ss=np.pi*drs**2 #センサー手前のウィンドウ面積\n",
        "L=130 #mm 線源からセンサーまでの距離\n",
        "dOmega_RtoS=Ss/L**2 #線源からセンサーまでの見込み角\n",
        "print(\"線源からセンサーまでの見込み角={:10.3e} [sr]\".format(dOmega_RtoS))"
      ],
      "metadata": {
        "id": "IhEP2OmcaOsf",
        "cellView": "form"
      },
      "execution_count": null,
      "outputs": []
    },
    {
      "cell_type": "code",
      "source": [
        "# @title 1.2.2. 線源からターゲットの見込み角\n",
        "\n",
        "drt=6/2 #mm ターゲット手前のウィンドウ幅\n",
        "St=np.pi*drt**2 #センサー手前のウィンドウ面積\n",
        "Lt=58.3 #mm 線源からターゲット手前のウィンドウまでの距離\n",
        "dOmega_RtoT=St/Lt**2 #線源からターゲットの見込み角\n",
        "#オプション課題：ターゲット手前のウィンドウの傾きを考慮するとどうなるか検討する\n",
        "print(\"線源からターゲットまでの見込み角={:10.3e} [sr]\".format(dOmega_RtoT))"
      ],
      "metadata": {
        "cellView": "form",
        "id": "91kM37a38rPU"
      },
      "execution_count": null,
      "outputs": []
    },
    {
      "cell_type": "code",
      "source": [
        "# @title 1.2.3. ターゲットから線源までの見込み角\n",
        "\n",
        "Ls=58.3 #mm ターゲットから線源までの距離\n",
        "dOmega_TtoS=Ss/Ls**2 #ターゲットから線源までの見込み角\n",
        "print(\"ターゲットから線源までの見込み角={:10.3e} [sr]\".format(dOmega_TtoS))"
      ],
      "metadata": {
        "cellView": "form",
        "id": "1we3PWn69eLy"
      },
      "execution_count": null,
      "outputs": []
    },
    {
      "cell_type": "markdown",
      "source": [
        "ここまでで計算した見込み角を用いると、線源そのものの強度と、ターゲットに入射する信号の強度が計算できます。1.2.4.,1.2.5.で計算します。"
      ],
      "metadata": {
        "id": "Mf1K2HLI9pvi"
      }
    },
    {
      "cell_type": "code",
      "source": [
        "# @title 1.2.4. 線源強度\n",
        "\n",
        "Ncalib=np.sum(alpha_calib)#キャリブレーションのデータ測定で得られたイベント数を全て足す\n",
        "Tcalib=60#sec, キャリブレーションのデータの測定時間に書き換える\n",
        "\n",
        "B0=Ncalib/Tcalib*4*np.pi/dOmega_RtoS#線源強度\n",
        "dB0=np.sqrt(Ncalib)/Tcalib*4*np.pi/dOmega_RtoS#統計誤差\n",
        "#オプション課題：不感時間を考慮するとどうなるか検討する\n",
        "print(\"測定回数 {:8.3e} -> 線源強度={:10.3e} +/- {:7.1e} [Bq]\".format(Ncalib,B0,dB0))\n"
      ],
      "metadata": {
        "cellView": "form",
        "id": "yLtm7N0a8jIU"
      },
      "execution_count": null,
      "outputs": []
    },
    {
      "cell_type": "code",
      "source": [
        "# @title 1.2.5. ターゲットに入射する信号強度\n",
        "B=B0*dOmega_RtoT/4/np.pi\n",
        "dB=dB0*dOmega_RtoT/4/np.pi\n",
        "print(\"ターゲットに入射する信号強度={:6.1f} +/- {:6.1f} [Bq]\".format(B,dB))"
      ],
      "metadata": {
        "cellView": "form",
        "id": "SJRqwGBu-N_a"
      },
      "execution_count": null,
      "outputs": []
    },
    {
      "cell_type": "markdown",
      "source": [
        "公称値2 MBqに対して測定された強度は妥当か検討してください。"
      ],
      "metadata": {
        "id": "y91g3t8Wc3Qr"
      }
    },
    {
      "cell_type": "markdown",
      "source": [
        "# 1.3. 薄膜の厚さ測定"
      ],
      "metadata": {
        "id": "MMP8PwDN6pyi"
      }
    },
    {
      "cell_type": "markdown",
      "source": [
        "続いて薄膜の厚さを測定します。テキストにあるように、薄膜を通過したアルファ線のエネルギーを評価することで、厚さを計算することができます。\n",
        "\n",
        "実験の進行状況に応じて、以下のいずれかを行ってください。\n",
        "\n",
        "*   シミュレーションデータで行う場合: 1.3.1.を実行\n",
        "*   実験データ分布を全て用いる場合: 1.3.2.を実行\n",
        "\n",
        "続けて1.3.3.及び1.3.4を実行して、アルファ線のエネルギーを導出します。"
      ],
      "metadata": {
        "id": "4-s4Avgi_F94"
      }
    },
    {
      "cell_type": "code",
      "source": [
        "# @title 1.3.1. 薄膜厚さシミュレーションデータ生成\n",
        "EAu=668 #仮の値\n",
        "dEAu=25 #シミュレーション用\n",
        "EAl=222 #仮の値\n",
        "dEAl=50 #シミュレーション用\n",
        "\n",
        "Aldeg0 = np.random.normal(EAl, dEAl, 5000)\n",
        "Aldeg0, x = np.histogram(Aldeg0, range=(0, 1024), bins=1024)\n",
        "Audeg0 = np.random.normal(EAu, dEAu, 5000)\n",
        "Audeg0, x = np.histogram(Audeg0, range=(0, 1024), bins=1024)\n",
        "deg0=Aldeg0+Audeg0"
      ],
      "metadata": {
        "id": "rLku5UOPdf7Q",
        "cellView": "form"
      },
      "execution_count": null,
      "outputs": []
    },
    {
      "cell_type": "code",
      "source": [
        "# @title 1.3.2. 薄膜厚さ測定データ入力\n",
        "#実データ用。パスと名前は適宜書き換えること\n",
        "Aldeg0 = np.genfromtxt('/content/drive/MyDrive/temp/b3exp/60sec0degAl.csv', skip_footer=6)\n",
        "Audeg0 = np.genfromtxt('/content/drive/MyDrive/temp/b3exp/Au.csv', skip_footer=6)\n",
        "deg0=Aldeg0+Audeg0\n",
        "EAu=668 #大まかな値。適宜書き換え\n",
        "dEAu=25 #大まかな値。\n",
        "EAl=222 #大まかな値。適宜書き換え\n",
        "dEAl=50 #大まかな値。"
      ],
      "metadata": {
        "id": "suuSsiO_j24j",
        "cellView": "form"
      },
      "execution_count": null,
      "outputs": []
    },
    {
      "cell_type": "code",
      "source": [
        "# @title 1.3.3. 薄膜厚さ測定用ガウシアンフィッティング\n",
        "\n",
        "fig = plt.figure(figsize=(6, 4))\n",
        "ax = fig.add_subplot(111)\n",
        "x=np.arange(1,1025)\n",
        "_ = ax.hist(x, bins=1024, weights=deg0, range=(0, 1024), alpha=0.5, label='data')\n",
        "plt.xlabel('MCA channel [ch]', fontsize=18, fontfamily='serif')#x軸の名前\n",
        "plt.ylabel('Event count', fontsize=18, fontfamily='serif')#y軸の名前\n",
        "\n",
        "#Alに関する処理\n",
        "dy=np.where(Aldeg0 > 0, np.sqrt(Aldeg0), 1.0)\n",
        "par_Al, cov_Al = curve_fit(sig, x, Aldeg0, p0=(50, EAl, dEAl), sigma=dy)\n",
        "perr_Al = np.sqrt(np.diag(cov_Al))\n",
        "mat = np.vstack((par_Al,perr_Al)).T\n",
        "df = pd.DataFrame(mat,index=(\"Constant\", \"Mean\", \"Sigma\"), columns=(\"Estimate\", \"Std. error\"))\n",
        "print(df)\n",
        "y = sig(x, *par_Al)\n",
        "_ = ax.plot(x, y, '-', label='fitAl')\n",
        "print(\"ch after Al: {:5.1f}+/-{:5.1f}\".format(par_Al[1],perr_Al[1]))#中心値とその誤差を出力\n",
        "\n",
        "#Auに関する処理\n",
        "dy=np.where(Audeg0 > 0, np.sqrt(Audeg0), 1.0)\n",
        "par_Au, cov_Au = curve_fit(sig, x, Audeg0, p0=(50, EAu, dEAu), sigma=dy)\n",
        "perr_Au = np.sqrt(np.diag(cov_Au))\n",
        "mat = np.vstack((par_Au,perr_Au)).T\n",
        "df = pd.DataFrame(mat,index=(\"Constant\", \"Mean\", \"Sigma\"), columns=(\"Estimate\", \"Std. error\"))\n",
        "print(df)\n",
        "y = sig(x, *par_Au)\n",
        "_ = ax.plot(x, y, '-', label='fitAu')\n",
        "print(\"ch after Au: {:5.1f}+/-{:5.1f}\".format(par_Au[1],perr_Au[1]))#中心値とその誤差を出力"
      ],
      "metadata": {
        "id": "72ZReBPBecBg",
        "cellView": "form"
      },
      "execution_count": null,
      "outputs": []
    },
    {
      "cell_type": "code",
      "source": [
        "# @title 1.3.4. 薄膜厚さ測定チャンネル数からエネルギーへ変換\n",
        "\n",
        "#Alに関する変換\n",
        "EAlreco=lin(par_Al[1],par_line[0],par_line[1])\n",
        "dEAlreco=dlin(par_Al[1],par_line[0],par_line[1],perr_Al[1],perr_line[0],perr_line[1])\n",
        "print(\"Al通過後のアルファ線のエネルギー : {:8.3f} +/- {:8.3f} MeV\".format(EAlreco,dEAlreco))\n",
        "\n",
        "#Auに関する変換\n",
        "EAureco=lin(par_Au[1],par_line[0],par_line[1])\n",
        "dEAureco=dlin(par_Au[1],par_line[0],par_line[1],perr_Au[1],perr_line[0],perr_line[1])\n",
        "print(\"Au 通過後のアルファ線のエネルギー : {:8.3f} +/- {:8.3f} MeV\".format(EAureco,dEAureco))"
      ],
      "metadata": {
        "cellView": "form",
        "id": "YwNM0rkiBdZw"
      },
      "execution_count": null,
      "outputs": []
    },
    {
      "cell_type": "markdown",
      "source": [
        "エネルギーはテキストにある理論曲線から厚さに変換することができます。\n",
        "\n",
        "まずは1.3.5で理論曲線をフィットし、厚さとエネルギーの関係式を求めます。\n",
        "\n",
        "更にその関係式から各薄膜の厚さを計算します。"
      ],
      "metadata": {
        "id": "YLfR97uhjaBj"
      }
    },
    {
      "cell_type": "code",
      "source": [
        "# @title 1.3.5.テキストにある理論値のフィッティング\n",
        "\n",
        "#テキストにある理論値\n",
        "Ealphatheo=[1.5, 2.0, 2.5, 3.0, 3.5, 4.0, 4.1, 4.5]#アルファ線のエネルギー\n",
        "EAltheo=[5.017, 6.804, 8.777, 10.944, 13.308, 15.867, 16.402, 18.618]#Al中の飛程\n",
        "EAutheo=[2.699, 3.435, 4.230, 5.086, 6.002, 6.974, 7.175, 8.001]#Au中の飛程\n",
        "\n",
        "#Alに関するフィッティング\n",
        "par_Al_line, cov_Al_line = curve_fit(lin, Ealphatheo, EAltheo)#アルファ線のエネルギー[MeV]->アルファ線が飛べるAlの厚さ[um]の式をフィッティング\n",
        "perr_Al_line = np.sqrt(np.diag(cov_Al_line))\n",
        "mat = np.vstack((par_Al_line,perr_Al_line)).T\n",
        "df = pd.DataFrame(mat,index=(\"Slope\", \"Offset\"), columns=(\"Estimate\", \"Std. error\"))\n",
        "print(df)\n",
        "\n",
        "#Auに関するフィッティング\n",
        "par_Au_line, cov_Au_line = curve_fit(lin, Ealphatheo, EAutheo)#アルファ線のエネルギー[MeV]->アルファ線が飛べるAlの厚さ[um]の式をフィッティング\n",
        "perr_Au_line = np.sqrt(np.diag(cov_Au_line))\n",
        "mat = np.vstack((par_Au_line,perr_Au_line)).T\n",
        "df = pd.DataFrame(mat,index=(\"Slope\", \"Offset\"), columns=(\"Estimate\", \"Std. error\"))\n",
        "print(df)\n",
        "\n",
        "#プロット\n",
        "plt.scatter(Ealphatheo,EAltheo,marker=\"o\")#理論値Al\n",
        "plt.scatter(Ealphatheo,EAutheo,marker=\"o\")#理論値Au\n",
        "plt.xlabel('Alpha ray energy [MeV]', fontsize=18, fontfamily='serif')#x軸の名前\n",
        "plt.ylabel('Alpha ray range [μm]', fontsize=18, fontfamily='serif')#y軸の名前\n",
        "x_funcAl = np.arange(1.5,5.5)\n",
        "y_funcAl = par_Al_line[0]*x_funcAl + par_Al_line[1]\n",
        "x_funcAu = np.arange(1.5,5.5)\n",
        "y_funcAu = par_Au_line[0]*x_funcAu + par_Au_line[1]\n",
        "plt.plot(x_funcAl,y_funcAl,'b',x_funcAu,y_funcAu,'r')"
      ],
      "metadata": {
        "id": "a0kBz1EdgLHn",
        "cellView": "form"
      },
      "execution_count": null,
      "outputs": []
    },
    {
      "cell_type": "code",
      "source": [
        "# @title 1.3.6.エネルギーから厚さへの変換\n",
        "\n",
        "#厚さとエネルギーの関係式から、Al薄膜の厚さを求める\n",
        "RAl=lin(EAlreco,par_Al_line[0],par_Al_line[1])#測定された、残りのエネルギーで飛べるAlの厚さ\n",
        "dRAl=dlin(EAlreco,par_Al_line[0],par_Al_line[1],dEAlreco,perr_Al_line[0],perr_Al_line[1])#その誤差\n",
        "dxAl=18.618-RAl#アルファ線が飛んできたAlの厚さ\n",
        "print(\"Al残り飛程: {:10.2f} +/- {:10.2f} [um] -> 厚さdx={:10.2f} +/- {:10.2f} [um]\".format(RAl,dRAl,dxAl,dRAl))\n",
        "\n",
        "#以下Auに関して同様\n",
        "RAu=lin(EAureco,par_Au_line[0],par_Au_line[1])\n",
        "dRAu=dlin(EAureco,par_Au_line[0],par_Au_line[1],dEAureco,perr_Au_line[0],perr_Au_line[1])\n",
        "dxAu=8.001-RAu\n",
        "print(\"Au残り飛程: {:10.2f} +/- {:10.2f} [um] -> 厚さdx={:10.2f} +/- {:10.2f} [um]\".format(RAu,dRAu,dxAu,dRAu))"
      ],
      "metadata": {
        "id": "SXOFbxonETvh",
        "cellView": "form"
      },
      "execution_count": null,
      "outputs": []
    },
    {
      "cell_type": "markdown",
      "source": [
        "求められた厚さを公称値と比較してください。\n",
        "\n",
        "以上で装置のキャリブレーション・測定が完了しました。"
      ],
      "metadata": {
        "id": "D5hs_Dc2k_4o"
      }
    },
    {
      "cell_type": "markdown",
      "source": [
        "# 2.測定値の推定"
      ],
      "metadata": {
        "id": "tUekrcSPFlAD"
      }
    },
    {
      "cell_type": "markdown",
      "source": [
        "1.で得られた値を基に、大角度の散乱現象の測定計画を立てます。\n",
        "\n",
        "まずは2.1.1.を実行して測定・計算された値を振り返りましょう。また厚さの値を用いて2.1.2.で単位面積当たりの原子数を計算しましょう。"
      ],
      "metadata": {
        "id": "WgXmixOIFwry"
      }
    },
    {
      "cell_type": "code",
      "source": [
        "# @title 2.1.1.測定・計算された値の振り返り\n",
        "print(\"ターゲットに入射する信号強度={:6.1f} +/- {:6.1f} [Bq]\".format(B,dB))\n",
        "print(\"ターゲットから線源までの見込み角={:10.3e} [sr]\".format(dOmega_TtoS))\n",
        "print(\"Al厚さdx={:10.2f} +/- {:10.2f} [um]\".format(dxAl,dRAl))\n",
        "print(\"Au厚さdx={:10.2f} +/- {:10.2f} [um]\".format(dxAu,dRAu))\n",
        "print(\"キャリブレーションを行った時間={:4.0f}[sec]\".format(Tcalib))"
      ],
      "metadata": {
        "id": "8sBC3qDcQVA5",
        "cellView": "form"
      },
      "execution_count": null,
      "outputs": []
    },
    {
      "cell_type": "code",
      "source": [
        "# @title 2.1.2.原子密度の計算\n",
        "#計算用パラメタ\n",
        "NA=6.02e23\n",
        "Al_weight=26.98\n",
        "Au_weight=196.97\n",
        "#Al密度計算\n",
        "NAl=dxAl*1e-4*2.69*NA/Al_weight #dxAl[cm]*2.69[g/cm^3]*NA[count/mol]/weight[g/mol]\n",
        "dNAl=dRAl*1e-4*2.69*NA/Al_weight\n",
        "print(\"単位面積当たりアルミニウム原子数={:10.1e} [1/cm^2]={:10.1e} [1/fm^2]\".format(NAl,NAl*1e-26))\n",
        "#Au密度計算\n",
        "NAu=dxAu*1e-4*19.3*NA/Au_weight\n",
        "dNAu=dRAu*1e-4*19.3*NA/Au_weight\n",
        "print(\"単位面積当たり金原子数={:10.1e} [1/cm^2]={:10.1e} [1/fm^2]\".format(NAu,NAu*1e-26))\n",
        "print(\"\")"
      ],
      "metadata": {
        "id": "6sO_Vp42SDFQ",
        "cellView": "form"
      },
      "execution_count": null,
      "outputs": []
    },
    {
      "cell_type": "markdown",
      "source": [
        "続いて2.1.3.で仮に実験計画のパラメタ設定をしてから、2.1.4.で各薄膜で散乱現象が起こる確率\n",
        "$$\n",
        "\\frac{dσ}{d\\Omega}(θ,ϕ)=(\\frac{zZe^2}{4E_{α}})^2\\frac{1}{\\sin^4(θ/2)}\n",
        "$$\n",
        "を計算します。"
      ],
      "metadata": {
        "id": "sZPjriYuQeYK"
      }
    },
    {
      "cell_type": "code",
      "source": [
        "# @title 2.1.3.測定計画パラメタの設定\n",
        "theta=50\n",
        "t=3*24*60*60#sec\n",
        "print(\"測定時間{:10.0f}秒={:10.0f}分\".format(t,t/60))"
      ],
      "metadata": {
        "id": "kHmH-2yhRlRY",
        "cellView": "form"
      },
      "execution_count": null,
      "outputs": []
    },
    {
      "cell_type": "code",
      "source": [
        "# @title 2.1.4.散乱確率の見積もり\n",
        "#計算用パラメタ\n",
        "z = 2  # alpha は4He 2+\n",
        "ZAl = 13  # Alの陽子数は13\n",
        "ZAu = 79  # Auの陽子数は79\n",
        "hbarc = 197.3\n",
        "alpha = 1/137.\n",
        "e2 = hbarc*alpha\n",
        "E = 4.5\n",
        "\n",
        "#Al散乱確率計算\n",
        "AAl = (z*ZAl*e2/4/E)**2\n",
        "dsigmadOmegaAl=AAl*(np.sin(np.radians(theta)/2))**-4\n",
        "print(\"dsigma/dOmega(Al)={:10.1e}[fm^2/sr]\".format(dsigmadOmegaAl))\n",
        "\n",
        "#Au散乱確率計算\n",
        "AAu = (z*ZAu*e2/4/E)**2\n",
        "dsigmadOmegaAu=AAu*(np.sin(np.radians(theta)/2))**-4\n",
        "print(\"dsigma/dOmega(Au)={:10.1e}[fm^2/sr]\".format(dsigmadOmegaAu))\n",
        "\n",
        "fig = plt.figure(figsize=(6, 6))\n",
        "ax = fig.add_subplot(111)\n",
        "x=np.arange(5,90)#プロットするx軸のbinを設定\n",
        "fAl=AAl*(np.sin(np.radians(x)/2))**-4\n",
        "fAu=AAu*(np.sin(np.radians(x)/2))**-4\n",
        "ax.plot(x, fAl, 'b-')\n",
        "ax.plot(x, fAu, 'r-')\n",
        "plt.scatter(theta,dsigmadOmegaAl,marker=\"o\")#理論値Al\n",
        "plt.scatter(theta,dsigmadOmegaAu,marker=\"o\")#理論値Al\n",
        "plt.yscale('log')  # ログスケール\n",
        "ax.set_xlabel(r'$\\theta$ (deg.)')\n",
        "ax.set_ylabel(r'$d\\sigma/d\\Omega$ (fm$^2$)')\n"
      ],
      "metadata": {
        "id": "saF2AhjHRKDw",
        "cellView": "form"
      },
      "execution_count": null,
      "outputs": []
    },
    {
      "cell_type": "markdown",
      "source": [
        "値は全て揃いました。0.で与えた関係式を用いて、予想される信号数を2.1.5.で計算します。"
      ],
      "metadata": {
        "id": "9j4NLwvzUc6v"
      }
    },
    {
      "cell_type": "code",
      "source": [
        "# @title 2.1.5.散乱事象観測数の見積もり\n",
        "N_expectedAl=B*t*NAl*1e-26*dsigmadOmegaAl*dOmega_TtoS\n",
        "dN_expectedAl=B*t*NAl*1e-26*dsigmadOmegaAl*dOmega_TtoS*np.sqrt((dB/B)**2+(1/np.sqrt(NAl)**2)+(dNAl/NAl)**2)\n",
        "print(\"推定測定回数(Al)={:10.1e}+/-{:10.1e}\".format(N_expectedAl,dN_expectedAl))\n",
        "N_expectedAu=B*t*NAu*1e-26*dsigmadOmegaAu*dOmega_TtoS\n",
        "dN_expectedAu=B*t*NAu*1e-26*dsigmadOmegaAu*dOmega_TtoS*np.sqrt((dB/B)**2+(1/np.sqrt(NAu)**2)+(dNAu/NAu)**2)\n",
        "print(\"推定測定回数(Au)={:10.1e}+/-{:10.1e}\".format(N_expectedAu,dN_expectedAu))"
      ],
      "metadata": {
        "id": "tuXrpHY1U0H-",
        "cellView": "form"
      },
      "execution_count": null,
      "outputs": []
    },
    {
      "cell_type": "markdown",
      "source": [
        "推定された値はラザフォード散乱を\"発見\"するうえで十分だといえるでしょうか？2.1.3のパラメタを変更して様々なケースの推定を行ってみましょう。\n",
        "\n",
        "オプション課題:小角度散乱の場合は多くの事象が期待されます。短時間の測定回数を高精度で予測できるでしょうか？寄与の大きな誤差は？"
      ],
      "metadata": {
        "id": "cKhwvP0xVNIO"
      }
    }
  ]
}