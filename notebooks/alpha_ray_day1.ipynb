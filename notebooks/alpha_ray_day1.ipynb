{
  "nbformat": 4,
  "nbformat_minor": 0,
  "metadata": {
    "colab": {
      "provenance": []
    },
    "kernelspec": {
      "name": "python3",
      "display_name": "Python 3"
    },
    "language_info": {
      "name": "python"
    }
  },
  "cells": [
    {
      "cell_type": "markdown",
      "source": [
        "はじめに\n",
        "\n",
        "物理学の実験においては、事前に測定値を予測することが可能な様々な理論式が知られています。理論式を検証するために実験を行うこともあれば、理論式に合わない実験結果を説明するために新たな理論が提唱されることもあります。ここではラザフォード散乱の式を例にとり、理論式を用いた予想と検証を行います。\n",
        "\n",
        "実験前から結果を予想して議論するために、ダミーのデータを生成できるようになっています。データを取得したら置き換えることで、実際のデータに即した議論ができます。"
      ],
      "metadata": {
        "id": "uVnVNEU_ulnz"
      }
    },
    {
      "cell_type": "code",
      "source": [
        "#スクリプト実行に必要なパッケージ。\n",
        "import numpy as np\n",
        "import pandas as pd\n",
        "import matplotlib.pyplot as plt\n",
        "from scipy.optimize import curve_fit\n",
        "from scipy.stats import poisson,norm"
      ],
      "metadata": {
        "id": "hALijMvCIlMl"
      },
      "execution_count": 110,
      "outputs": []
    },
    {
      "cell_type": "code",
      "source": [
        "#実験データなど、Googleドライブにあるファイルにアクセスしたい場合に実行する。自分のアカウントで要認証。ダミーデータで取り組む場合は実行不要\n",
        "from google.colab import drive\n",
        "drive.mount('/content/drive')"
      ],
      "metadata": {
        "colab": {
          "base_uri": "https://localhost:8080/"
        },
        "id": "Pf4oCsuAI7qc",
        "outputId": "b441374f-3119-41bf-a0d2-caeef1964eaf"
      },
      "execution_count": 3,
      "outputs": [
        {
          "output_type": "stream",
          "name": "stdout",
          "text": [
            "Mounted at /content/drive\n"
          ]
        }
      ]
    },
    {
      "cell_type": "markdown",
      "source": [
        "実験装置のキャリブレーション・測定\n",
        "\n",
        "この実験ではα線源、金及びアルミ薄膜、SSDを用います。それぞれの性能の公称値は以下です。\n",
        "*   線源：　2 MBq (1 Bq = 1 event/sec)\n",
        "*   金箔：　1 μm, 19.3g/cm^3\n",
        "*   アルミ箔：　10 μm, 2.69 g/cm^3\n",
        "\n",
        "これらの公称値を参考にしつつ、装置のキャリブレーションを行います。\n",
        "\n",
        "まずはスペクトルのエネルギーとチャンネルの関係を調べます。パルス波の大きさを変えながら、チャンネルがどのように変化するか調べ、**パルス波の大きさが0の時のチャンネルを0 MeV相当のエネルギーとして求めます**。"
      ],
      "metadata": {
        "id": "kQvtkddHJtY3"
      }
    },
    {
      "cell_type": "code",
      "source": [
        "#シミュレーション用ダミー\n",
        "A=723 #仮の中心値\n",
        "dA=3 #仮の幅\n",
        "off=5 #仮のオフセット\n",
        "\n",
        "pulsar100 = np.random.normal(A+off, dA, 5000)\n",
        "pulsar100, x = np.histogram(pulsar100, range=(0, 1024), bins=1024)\n",
        "pulsar90 = np.random.normal(A*0.9+off, dA, 5000)\n",
        "pulsar90, x = np.histogram(pulsar90, range=(0, 1024), bins=1024)\n",
        "pulsar80 = np.random.normal(A*0.8+off, dA, 5000)\n",
        "pulsar80, x = np.histogram(pulsar80, range=(0, 1024), bins=1024)\n",
        "pulsar70 = np.random.normal(A*0.7+off, dA, 5000)\n",
        "pulsar70, x = np.histogram(pulsar70, range=(0, 1024), bins=1024)\n",
        "pulsar60 = np.random.normal(A*0.6+off, dA, 5000)\n",
        "pulsar60, x = np.histogram(pulsar60, range=(0, 1024), bins=1024)\n",
        "pulsar_list=[pulsar100, pulsar90, pulsar80, pulsar70, pulsar60]\n",
        "pulsar = pulsar100 + pulsar90 + pulsar80 + pulsar70 + pulsar60\n",
        "\n",
        "means = np.array([1,0.9,0.8,0.7,0.6])\n",
        "means = A*means\n",
        "\n",
        "\n",
        "print('check1:',pulsar100,pulsar100.size)\n",
        "print('check2:',pulsar,pulsar.size,means)"
      ],
      "metadata": {
        "colab": {
          "base_uri": "https://localhost:8080/"
        },
        "id": "rUdUg-CyJTQN",
        "outputId": "e2cd1d71-f517-4fd9-800d-fc48ac2173e8"
      },
      "execution_count": 110,
      "outputs": [
        {
          "output_type": "stream",
          "name": "stdout",
          "text": [
            "check1: [0 0 0 ... 0 0 0] 1024\n",
            "check2: [0 0 0 ... 0 0 0] 1024 [723.  650.7 578.4 506.1 433.8]\n"
          ]
        }
      ]
    },
    {
      "cell_type": "code",
      "source": [
        "#実データ用。パスと名前は適宜書き換えること\n",
        "pulsar100 = np.genfromtxt('/content/drive/MyDrive/temp/b3exp/pulse2p4.csv', skip_footer=6)\n",
        "pulsar90 = np.genfromtxt('/content/drive/MyDrive/temp/b3exp/pulse2p2.csv', skip_footer=6)\n",
        "pulsar80 = np.genfromtxt('/content/drive/MyDrive/temp/b3exp/pulse2p0.csv', skip_footer=6)\n",
        "pulsar70 = np.genfromtxt('/content/drive/MyDrive/temp/b3exp/pulse1p8.csv', skip_footer=6)\n",
        "pulsar60 = np.genfromtxt('/content/drive/MyDrive/temp/b3exp/pulse1p6.csv', skip_footer=6)\n",
        "pulsar50 = np.genfromtxt('/content/drive/MyDrive/temp/b3exp/pulse1p4.csv', skip_footer=6)\n",
        "pulsar_list=[pulsar100, pulsar90, pulsar80, pulsar70, pulsar60, pulsar50]\n",
        "pulsar = pulsar100 + pulsar90 + pulsar80 + pulsar70 + pulsar60 + pulsar50\n",
        "\n",
        "means = np.array([2.4,2.2,2.0,1.8,1.6,1.4])\n",
        "means *= 765/2.4\n",
        "dA=50 #仮の幅\n",
        "\n",
        "print('check1:',pulsar100,pulsar100.size)\n",
        "print('check2:',pulsar,pulsar.size,means)"
      ],
      "metadata": {
        "colab": {
          "base_uri": "https://localhost:8080/"
        },
        "id": "SBoa5LWSLPOM",
        "outputId": "5a6cc0ed-917e-4bdd-e97d-c739fc9ae4e4"
      },
      "execution_count": 5,
      "outputs": [
        {
          "output_type": "stream",
          "name": "stdout",
          "text": [
            "check1: [0. 0. 0. ... 0. 0. 0.] 1024\n",
            "check2: [0. 0. 0. ... 0. 0. 0.] 1024 [765.   701.25 637.5  573.75 510.   446.25]\n"
          ]
        }
      ]
    },
    {
      "cell_type": "code",
      "source": [
        "#ガウス分布を仮定して中心チャンネルを抽出するフィッティング。上記で入力した分布に対してフィットが行われる。\n",
        "def sig(x, a, m, s):\n",
        "    return a*np.exp(-0.5*(x-m)**2/s**2)\n",
        "\n",
        "scaling_ch=713.91#うまく合わせるトリック\n",
        "ch = []\n",
        "dch = []\n",
        "E = []\n",
        "\n",
        "fig = plt.figure(figsize=(6, 4))\n",
        "ax = fig.add_subplot(111)\n",
        "x=np.arange(1,1025)\n",
        "_ = ax.hist(x, bins=1024, weights=pulsar, range=(0, 1024), alpha=0.5, label='data')\n",
        "\n",
        "for mean,pulsar_i in zip(means,pulsar_list):\n",
        "    E=np.append(E,mean/scaling_ch*4.5)\n",
        "    y=pulsar_i\n",
        "    dy=np.where(y > 0, np.sqrt(y), 1.0)\n",
        "    par_gaus, cov_gaus = curve_fit(sig, x, y, p0=(100, mean, dA),sigma=dy)\n",
        "    perr_gaus = np.sqrt(np.diag(cov_gaus))\n",
        "    mat = np.vstack((par_gaus,perr_gaus)).T\n",
        "    df = pd.DataFrame(mat,index=(\"Constant\", \"Mean\", \"Sigma\"), columns=(\"Estimate\", \"Std. error\"))\n",
        "    print(mean,df)\n",
        "    ch=np.append(ch,float(par_gaus[1]))\n",
        "    dch=np.append(dch,float(perr_gaus[1]))\n",
        "    print(\"{:3.2f} {:.3f} +/- {:.3f}\".format(E[-1],ch[-1],dch[-1]))\n",
        "    y = sig(x, *par_gaus)\n",
        "    _ = ax.plot(x, y, '-', label='fit{:5.1f}'.format(mean))\n",
        "plt.legend(loc='upper right')"
      ],
      "metadata": {
        "colab": {
          "base_uri": "https://localhost:8080/",
          "height": 906
        },
        "id": "I0qZZXSuNpM0",
        "outputId": "d9b1e365-39eb-4b44-ec2d-8135ea10aee4"
      },
      "execution_count": 6,
      "outputs": [
        {
          "output_type": "stream",
          "name": "stdout",
          "text": [
            "765.0             Estimate  Std. error\n",
            "Constant  112.625250    0.704244\n",
            "Mean      773.577824    0.011979\n",
            "Sigma       2.252897    0.008376\n",
            "4.82 773.578 +/- 0.012\n",
            "701.25             Estimate  Std. error\n",
            "Constant  111.599009    0.822179\n",
            "Mean      695.860399    0.013333\n",
            "Sigma       2.236478    0.009774\n",
            "4.42 695.860 +/- 0.013\n",
            "637.5             Estimate  Std. error\n",
            "Constant  108.277192    0.614711\n",
            "Mean      620.130519    0.010599\n",
            "Sigma      -2.339156    0.008058\n",
            "4.02 620.131 +/- 0.011\n",
            "573.75             Estimate  Std. error\n",
            "Constant  113.008759    0.661664\n",
            "Mean      544.009210    0.010665\n",
            "Sigma      -2.241645    0.007977\n",
            "3.62 544.009 +/- 0.011\n",
            "510.0             Estimate  Std. error\n",
            "Constant  115.364570    0.638504\n",
            "Mean      470.940543    0.009833\n",
            "Sigma       2.196672    0.007201\n",
            "3.21 470.941 +/- 0.010\n",
            "446.25             Estimate  Std. error\n",
            "Constant  113.309762    0.543109\n",
            "Mean      397.116330    0.008829\n",
            "Sigma      -2.247210    0.006244\n",
            "2.81 397.116 +/- 0.009\n"
          ]
        },
        {
          "output_type": "execute_result",
          "data": {
            "text/plain": [
              "<matplotlib.legend.Legend at 0x7b4f54363250>"
            ]
          },
          "metadata": {},
          "execution_count": 6
        },
        {
          "output_type": "display_data",
          "data": {
            "text/plain": [
              "<Figure size 600x400 with 1 Axes>"
            ],
            "image/png": "[encoded data removed]"
          },
          "metadata": {}
        }
      ]
    },
    {
      "cell_type": "code",
      "source": [
        "#フィッティングせずにとりあえず目で読んだ値で進める場合。上記でフィッティングしている場合は不要。\n",
        "ch=np.array([774,695,620,543])#適切な値に置き換える\n",
        "dch=np.ones(ch.size)#誤差は1とする\n",
        "E=np.array([2.4,2.2,2.0,1.8])#適切な値に置き換える（パルス波の高さの比率等）"
      ],
      "metadata": {
        "id": "pAmSXMqrcTQ6"
      },
      "execution_count": 113,
      "outputs": []
    },
    {
      "cell_type": "markdown",
      "source": [
        "得られた結果を直線フィットすると0 MeV相当のチャンネル数が得られます。"
      ],
      "metadata": {
        "id": "nl-ZiGlbd0NJ"
      }
    },
    {
      "cell_type": "code",
      "source": [
        "#中心チャンネルを結ぶよう直線フィッティングして、更に0 MeV相当のチャンネル数を算出。\n",
        "def lin(x,a,b):\n",
        "    return a*x+b\n",
        "\n",
        "par_line, cov_line = curve_fit(lin, ch, E, sigma=dch)\n",
        "perr_line = np.sqrt(np.diag(cov_line))\n",
        "mat = np.vstack((par_line,perr_line)).T\n",
        "df = pd.DataFrame(mat,index=(\"Slope\", \"Offset\"), columns=(\"Estimate\", \"Std. error\"))\n",
        "print(df)\n",
        "\n",
        "x_func = np.arange(0,1000)\n",
        "y_func = par_line[0]*x_func + par_line[1]\n",
        "\n",
        "plt.errorbar(ch,E,0,dch,fmt=\"o\")\n",
        "plt.plot(x_func,y_func)\n",
        "plt.show()\n",
        "E0=(0-par_line[1])/par_line[0]\n",
        "dE0=abs((0-par_line[1])/par_line[0]*np.sqrt((perr_line[0]/par_line[0])**2+(perr_line[1]/par_line[1])**2))\n",
        "print(\"0 MeV= {:7.2f} +/- {:7.2f} ch\".format(E0,dE0))"
      ],
      "metadata": {
        "colab": {
          "base_uri": "https://localhost:8080/",
          "height": 499
        },
        "id": "8h6MoTtVd4N4",
        "outputId": "f1fef9e7-ff5b-4582-d66e-73da1a938f5a"
      },
      "execution_count": 7,
      "outputs": [
        {
          "output_type": "stream",
          "name": "stdout",
          "text": [
            "        Estimate  Std. error\n",
            "Slope   0.005350    0.000029\n",
            "Offset  0.695008    0.016371\n"
          ]
        },
        {
          "output_type": "display_data",
          "data": {
            "text/plain": [
              "<Figure size 640x480 with 1 Axes>"
            ],
            "image/png": "[encoded data removed]"
          },
          "metadata": {}
        },
        {
          "output_type": "stream",
          "name": "stdout",
          "text": [
            "0 MeV= -129.91 +/-    3.14 ch\n"
          ]
        }
      ]
    },
    {
      "cell_type": "markdown",
      "source": [
        "続いてアルファ線が、途中標的を通過せずにセンサーに届いた場合の信号のチャンネル数を調べます。アルファ線のエネルギーが4.5 MeVであることを用いて、キャリブレーションのスケールを再決定します。"
      ],
      "metadata": {
        "id": "29Ob1RDbfOhn"
      }
    },
    {
      "cell_type": "code",
      "source": [
        "#シミュレーション用ダミー\n",
        "Ealpha=800 #仮の中心値\n",
        "dEalpha=25 #仮の幅\n",
        "\n",
        "alpha_calib = np.random.normal(Ealpha, dEalpha, 5000)\n",
        "alpha_calib, x = np.histogram(alpha_calib, range=(0, 1024), bins=1024)\n",
        "#x=np.arange(1,1025)\n",
        "#plt.plot(x, alpha_calib)"
      ],
      "metadata": {
        "id": "nU3TIASZf3-U"
      },
      "execution_count": 35,
      "outputs": []
    },
    {
      "cell_type": "code",
      "source": [
        "#実データ用。パスと名前は適宜書き換えること\n",
        "alpha_calib = np.genfromtxt('/content/drive/MyDrive/temp/b3exp/60sec0degNoTarget.csv', skip_footer=6)\n",
        "#x=np.arange(1,1025)\n",
        "#plt.plot(x, alpha_calib)"
      ],
      "metadata": {
        "id": "MaJJr_ESgorX"
      },
      "execution_count": 53,
      "outputs": []
    },
    {
      "cell_type": "code",
      "source": [
        "#ガウス分布でキャリブレーション用信号をフィッティングし、中心チャンネルを導出。\n",
        "def dlin(x,a,b,dx,da,db):#直線フィッティング結果を用いて算出した値の誤差導出用関数\n",
        "    dy=(x*da)**2\n",
        "    dy+=(dx*a)**2\n",
        "    dy+=db**2\n",
        "    dy=np.sqrt(dy)\n",
        "    #print(\"{:10.4f}, {:10.4f}, {:10.4f}\".format((x*da),dx*a,db))\n",
        "    return dy\n",
        "\n",
        "fig = plt.figure(figsize=(6, 4))\n",
        "ax = fig.add_subplot(111)\n",
        "x=np.arange(1,1025)\n",
        "_ = ax.hist(x, bins=1024, weights=alpha_calib, range=(0, 1024), alpha=0.5, label='data')\n",
        "dy=np.where(alpha_calib > 0, np.sqrt(alpha_calib), 1.0)\n",
        "par_calib, cov_calib = curve_fit(sig, x, alpha_calib, p0=(100, 800, 25), sigma=dy)\n",
        "perr_calib = np.sqrt(np.diag(cov_calib))\n",
        "mat = np.vstack((par_calib,perr_calib)).T\n",
        "df = pd.DataFrame(mat,index=(\"Constant\", \"Mean\", \"Sigma\"), columns=(\"Estimate\", \"Std. error\"))\n",
        "print(df)\n",
        "y = sig(x, *par_calib)\n",
        "_ = ax.plot(x, y, '-', label='fit_calib')\n",
        "E4p5=par_calib[1]\n",
        "dE4p5=perr_calib[1]\n",
        "print(\"4.5 MeV= {:7.2f} +/- {:7.2f} ch\".format(E4p5,dE4p5))\n",
        "\n",
        "print(\"f(E4p5 [ch])= {:5.3f} +/- {:5.3f} [MeV]\".format(lin(E4p5,par_line[0],par_line[1]),dlin(E4p5,par_line[0],par_line[1],dE4p5,perr_line[0],perr_line[1])))\n",
        "print(\"f(E0 [ch])= {:5.3f} +/- {:5.3f} [MeV]\".format(lin(E0,par_line[0],par_line[1]),dlin(E0,par_line[0],par_line[1],dE0,perr_line[0],perr_line[1])))\n"
      ],
      "metadata": {
        "colab": {
          "base_uri": "https://localhost:8080/",
          "height": 490
        },
        "id": "mL9WVnbQg3wc",
        "outputId": "70dc90f8-0c2a-4b0a-b911-b02177188cda"
      },
      "execution_count": 54,
      "outputs": [
        {
          "output_type": "stream",
          "name": "stdout",
          "text": [
            "            Estimate  Std. error\n",
            "Constant  168.058615    1.682813\n",
            "Mean      713.914731    0.263170\n",
            "Sigma      32.007574    0.188887\n",
            "4.5 MeV=  713.91 +/-    0.26 ch\n",
            "f(E4p5 [ch])= 4.514 +/- 0.026 [MeV]\n",
            "f(E0 [ch])= 0.000 +/- 0.024 [MeV]\n"
          ]
        },
        {
          "output_type": "display_data",
          "data": {
            "text/plain": [
              "<Figure size 600x400 with 1 Axes>"
            ],
            "image/png": "[encoded data removed]"
          },
          "metadata": {}
        }
      ]
    },
    {
      "cell_type": "markdown",
      "source": [
        "上記でそれぞれf(ch)の出力が誤差の範囲で意図したエネルギーを示していることを確認出来たら、以下ではこの関数をチャンネル数からエネルギーへの変換関数として用います。\n",
        "\n",
        "続いて上記キャリブレーションに用いた同じデータを用いて線源の強度を計算します。また、ターゲットに入射する信号強度、ターゲットからセンサーへの見込み角も計算します。"
      ],
      "metadata": {
        "id": "dlBSdSorYhW-"
      }
    },
    {
      "cell_type": "code",
      "source": [
        "#実験装置のジオメトリ・上記測定結果から各種計算\n",
        "\n",
        "drs=6/2 #mm センサー手前のウィンドウ幅\n",
        "Ss=np.pi*drs**2 #センサー手前のウィンドウ面積\n",
        "L=130 #mm 線源からセンサーまでの距離\n",
        "dOmega_RtoS=Ss/L**2 #線源からセンサーまでの見込み角\n",
        "print(\"線源からセンサーまでの見込み角={:10.3e} [sr]\".format(dOmega_RtoS))\n",
        "\n",
        "Ncalib=np.sum(alpha_calib)\n",
        "Tcalib=60#sec, 測定時間に適宜書き換え\n",
        "\n",
        "B0=Ncalib/Tcalib*4*np.pi/dOmega_RtoS#線源強度\n",
        "dB0=np.sqrt(Ncalib)/Tcalib*4*np.pi/dOmega_RtoS#線源強度誤差\n",
        "#オプション課題：不感時間を考慮するとどうなるか検討する\n",
        "print(\"測定回数 {:8.3e} -> 線源強度={:10.3e} +/- {:7.1e} [Bq]\".format(Ncalib,B0,dB0))\n",
        "\n",
        "drt=6/2 #mm ターゲット手前のウィンドウ幅\n",
        "St=np.pi*drt**2 #センサー手前のウィンドウ面積\n",
        "Lt=58.3 #mm 線源からターゲット手前のウィンドウまでの距離\n",
        "dOmega_RtoT=St/Lt**2 #線源からターゲット手前のウィンドウまでの見込み角\n",
        "#オプション課題：ターゲット手前のウィンドウの傾きを検討する\n",
        "print(\"線源からターゲット手前のウィンドウまでの見込み角={:10.3e} [sr]\".format(dOmega_RtoT))\n",
        "\n",
        "B=B0*dOmega_RtoT/4/np.pi\n",
        "dB=dB0*dOmega_RtoT/4/np.pi\n",
        "print(\"ターゲットに入射する信号強度={:6.1f} +/- {:6.1f} [Bq]\".format(B,dB))\n",
        "\n",
        "Ls=58.3 #mm ターゲットから線源までの距離\n",
        "dOmega_TtoS=Ss/Ls**2 #ターゲットから線源までの見込み角\n",
        "print(\"ターゲットから線源までの見込み角={:10.3e} [sr]\".format(dOmega_TtoS))"
      ],
      "metadata": {
        "colab": {
          "base_uri": "https://localhost:8080/"
        },
        "id": "IhEP2OmcaOsf",
        "outputId": "d32499d1-f1c3-4bd8-f58f-f477c4928161"
      },
      "execution_count": 72,
      "outputs": [
        {
          "output_type": "stream",
          "name": "stdout",
          "text": [
            "線源からセンサーまでの見込み角= 1.673e-03 [sr]\n",
            "測定回数 1.438e+04 -> 線源強度= 1.800e+06 +/- 1.5e+04 [Bq]\n",
            "線源からターゲット手前のウィンドウまでの見込み角= 8.319e-03 [sr]\n",
            "ターゲットに入射する信号強度=1191.8 +/-    9.9 [Bq]\n",
            "ターゲットから線源までの見込み角= 8.319e-03 [sr]\n"
          ]
        }
      ]
    },
    {
      "cell_type": "markdown",
      "source": [
        "公称値2 MBqに対して測定された強度は妥当か検討してください。\n",
        "\n",
        "続いて間に薄膜を挟んでその厚さ測定を行います。"
      ],
      "metadata": {
        "id": "y91g3t8Wc3Qr"
      }
    },
    {
      "cell_type": "code",
      "source": [
        "#シミュレーション用ダミー\n",
        "EAu=668 #仮の値\n",
        "dEAu=25 #シミュレーション用\n",
        "EAl=222 #仮の値\n",
        "dEAl=50 #シミュレーション用\n",
        "\n",
        "Aldeg0 = np.random.normal(EAl, dEAl, 5000)\n",
        "Aldeg0, x = np.histogram(Aldeg0, range=(0, 1024), bins=1024)\n",
        "Audeg0 = np.random.normal(EAu, dEAu, 5000)\n",
        "Audeg0, x = np.histogram(Audeg0, range=(0, 1024), bins=1024)\n",
        "deg0=Aldeg0+Audeg0"
      ],
      "metadata": {
        "id": "rLku5UOPdf7Q"
      },
      "execution_count": 19,
      "outputs": []
    },
    {
      "cell_type": "code",
      "source": [
        "#実データ用。パスと名前は適宜書き換えること\n",
        "Aldeg0 = np.genfromtxt('/content/drive/MyDrive/temp/b3exp/60sec0degAl.csv', skip_footer=6)\n",
        "Audeg0 = np.genfromtxt('/content/drive/MyDrive/temp/b3exp/Au.csv', skip_footer=6)\n",
        "deg0=Aldeg0+Audeg0"
      ],
      "metadata": {
        "id": "suuSsiO_j24j"
      },
      "execution_count": 56,
      "outputs": []
    },
    {
      "cell_type": "code",
      "source": [
        "#上記で定義したAl, Auを通過したスペクトルをガウス分布でフィッティングする。\n",
        "\n",
        "fig = plt.figure(figsize=(6, 4))\n",
        "ax = fig.add_subplot(111)\n",
        "x=np.arange(1,1025)\n",
        "_ = ax.hist(x, bins=1024, weights=deg0, range=(0, 1024), alpha=0.5, label='data')\n",
        "\n",
        "dy=np.where(Aldeg0 > 0, np.sqrt(Aldeg0), 1.0)\n",
        "par_Al, cov_Al = curve_fit(sig, x, Aldeg0, p0=(50, EAl, dEAl), sigma=dy)\n",
        "perr_Al = np.sqrt(np.diag(cov_Al))\n",
        "mat = np.vstack((par_Al,perr_Al)).T\n",
        "df = pd.DataFrame(mat,index=(\"Constant\", \"Mean\", \"Sigma\"), columns=(\"Estimate\", \"Std. error\"))\n",
        "print(df)\n",
        "y = sig(x, *par_Al)\n",
        "_ = ax.plot(x, y, '-', label='fitAl')\n",
        "\n",
        "EAlreco=lin(par_Al[1],par_line[0],par_line[1])\n",
        "dEAlreco=dlin(par_Al[1],par_line[0],par_line[1],perr_Al[1],perr_line[0],perr_line[1])\n",
        "print(\"EAl : {:8.3f} +/- {:8.3f} MeV\".format(EAlreco,dEAlreco))\n",
        "\n",
        "dy=np.where(Audeg0 > 0, np.sqrt(Audeg0), 1.0)\n",
        "par_Au, cov_Au = curve_fit(sig, x, Audeg0, p0=(50, EAu, dEAu), sigma=dy)\n",
        "perr_Au = np.sqrt(np.diag(cov_Au))\n",
        "mat = np.vstack((par_Au,perr_Au)).T\n",
        "df = pd.DataFrame(mat,index=(\"Constant\", \"Mean\", \"Sigma\"), columns=(\"Estimate\", \"Std. error\"))\n",
        "print(df)\n",
        "y = sig(x, *par_Au)\n",
        "_ = ax.plot(x, y, '-', label='fitAu')\n",
        "\n",
        "EAureco=lin(par_Au[1],par_line[0],par_line[1])\n",
        "dEAureco=dlin(par_Au[1],par_line[0],par_line[1],perr_Au[1],perr_line[0],perr_line[1])\n",
        "print(\"EAu : {:8.3f} +/- {:8.3f} MeV\".format(EAureco,dEAureco))"
      ],
      "metadata": {
        "colab": {
          "base_uri": "https://localhost:8080/",
          "height": 542
        },
        "id": "72ZReBPBecBg",
        "outputId": "f1213fbd-a37d-47fd-c80d-a05e8751d8f2"
      },
      "execution_count": 57,
      "outputs": [
        {
          "output_type": "stream",
          "name": "stdout",
          "text": [
            "            Estimate  Std. error\n",
            "Constant   63.122948    0.576837\n",
            "Mean      230.809163    0.480026\n",
            "Sigma      63.742315    0.356863\n",
            "EAl :    1.930 +/-    0.018 MeV\n",
            "            Estimate  Std. error\n",
            "Constant  902.619797    8.408546\n",
            "Mean      653.623923    0.328116\n",
            "Sigma      41.678276    0.224012\n",
            "EAu :    4.192 +/-    0.025 MeV\n"
          ]
        },
        {
          "output_type": "display_data",
          "data": {
            "text/plain": [
              "<Figure size 600x400 with 1 Axes>"
            ],
            "image/png": "[encoded data removed]"
          },
          "metadata": {}
        }
      ]
    },
    {
      "cell_type": "markdown",
      "source": [
        "続いてテキストにある理論曲線をフィットし、厚さとエネルギーの関係式を求めます。更にその関係式から各薄膜の厚さを計算します。"
      ],
      "metadata": {
        "id": "YLfR97uhjaBj"
      }
    },
    {
      "cell_type": "code",
      "source": [
        "#厚さとエネルギーの関係式から、薄膜の厚さを求める\n",
        "\n",
        "#テキストにある理論値\n",
        "Ealphatheo=[1.5, 2.0, 2.5, 3.0, 3.5, 4.0, 4.1, 4.5]\n",
        "EAltheo=[5.017, 6.804, 8.777, 10.944, 13.308, 15.867, 16.402, 18.618]\n",
        "EAutheo=[2.699, 3.435, 4.230, 5.086, 6.002, 6.974, 7.175, 8.001]\n",
        "\n",
        "par_Al_line, cov_Al_line = curve_fit(lin, Ealphatheo, EAltheo)#アルファ線のエネルギー[MeV]->アルファ線が飛べるAlの厚さ[um]の式\n",
        "perr_Al_line = np.sqrt(np.diag(cov_Al_line))\n",
        "mat = np.vstack((par_Al_line,perr_Al_line)).T\n",
        "df = pd.DataFrame(mat,index=(\"Slope\", \"Offset\"), columns=(\"Estimate\", \"Std. error\"))\n",
        "print(df)\n",
        "RAl=lin(EAlreco,par_Al_line[0],par_Al_line[1])#測定された、残りのエネルギーで飛べるAlの厚さ\n",
        "dRAl=dlin(EAlreco,par_Al_line[0],par_Al_line[1],dEAlreco,perr_Al_line[0],perr_Al_line[1])#その誤差\n",
        "dxAl=18.618-RAl#アルファ線が飛んできたAlの厚さ\n",
        "print(\"Al残り飛程: {:10.2f} +/- {:10.2f} [um] -> 厚さdx={:10.2f} +/- {:10.2f} [um]\".format(RAl,dRAl,dxAl,dRAl))\n",
        "x_funcAl = np.arange(1.5,5.5)\n",
        "y_funcAl = par_Al_line[0]*x_funcAl + par_Al_line[1]\n",
        "\n",
        "#以下Auに関して同様\n",
        "par_Au_line, cov_Au_line = curve_fit(lin, Ealphatheo, EAutheo)\n",
        "perr_Au_line = np.sqrt(np.diag(cov_Au_line))\n",
        "mat = np.vstack((par_Au_line,perr_Au_line)).T\n",
        "df = pd.DataFrame(mat,index=(\"Slope\", \"Offset\"), columns=(\"Estimate\", \"Std. error\"))\n",
        "print(df)\n",
        "RAu=lin(EAureco,par_Au_line[0],par_Au_line[1])\n",
        "dRAu=dlin(EAureco,par_Au_line[0],par_Au_line[1],dEAureco,perr_Au_line[0],perr_Au_line[1])\n",
        "dxAu=8.001-RAu\n",
        "print(\"Au残り飛程: {:10.2f} +/- {:10.2f} [um] -> 厚さdx={:10.2f} +/- {:10.2f} [um]\".format(RAu,dRAu,dxAu,dRAu))\n",
        "x_funcAu = np.arange(1.5,5.5)\n",
        "y_funcAu = par_Au_line[0]*x_funcAu + par_Au_line[1]\n",
        "\n",
        "#プロット用\n",
        "plt.scatter(Ealphatheo,EAltheo,marker=\"o\")\n",
        "plt.scatter(Ealphatheo,EAutheo,marker=\"o\")\n",
        "plt.plot(x_funcAl,y_funcAl,'b',x_funcAu,y_funcAu,'r')"
      ],
      "metadata": {
        "colab": {
          "base_uri": "https://localhost:8080/",
          "height": 604
        },
        "id": "a0kBz1EdgLHn",
        "outputId": "84f4098d-76db-4d11-f30a-aec95664ed77"
      },
      "execution_count": 61,
      "outputs": [
        {
          "output_type": "stream",
          "name": "stdout",
          "text": [
            "        Estimate  Std. error\n",
            "Slope   4.542685    0.128205\n",
            "Offset -2.285549    0.422323\n",
            "Al残り飛程:       6.48 +/-       0.50 [um] -> 厚さdx=     12.14 +/-       0.50 [um]\n",
            "        Estimate  Std. error\n",
            "Slope   1.771394    0.038742\n",
            "Offset -0.107500    0.127620\n",
            "Au残り飛程:       7.32 +/-       0.21 [um] -> 厚さdx=      0.68 +/-       0.21 [um]\n"
          ]
        },
        {
          "output_type": "execute_result",
          "data": {
            "text/plain": [
              "[<matplotlib.lines.Line2D at 0x7b4f4bbebbe0>,\n",
              " <matplotlib.lines.Line2D at 0x7b4f4bbebc10>]"
            ]
          },
          "metadata": {},
          "execution_count": 61
        },
        {
          "output_type": "display_data",
          "data": {
            "text/plain": [
              "<Figure size 640x480 with 1 Axes>"
            ],
            "image/png": "[encoded data removed]"
          },
          "metadata": {}
        }
      ]
    },
    {
      "cell_type": "markdown",
      "source": [
        "求められた厚さを公称値と比較してください。\n",
        "\n",
        "測定値の推定\n",
        "\n",
        "以上で装置のキャリブレーション・測定が完了しました。得られた値を基に、大角度の散乱現象の測定計画を立てます。ラザフォード散乱があることを再発見するためには、なるべく大角度での散乱事象を観測することが望ましいです。同時に、ターゲットを通過せずに直接センサーへ入射するバックグラウンド事象に対し、十分有意に大きな数の事象数を観測する必要があります。背景事象をいかに減らせるか、背景事象を信号事象からどれだけ正確に取り除けるか、そのうえで信号事象をいかに稼げるかが課題となります。仮にキャリブレーションに用いたデータを用いて背景事象の大まかな推測をし、それから研究計画を立てます。\n",
        "\n",
        "オプション課題:小角度散乱の場合は多くの事象が期待されます。高精度で予測できるでしょうか？寄与の大きな誤差は？"
      ],
      "metadata": {
        "id": "D5hs_Dc2k_4o"
      }
    },
    {
      "cell_type": "code",
      "source": [
        "print(\"<測定された数値>\")\n",
        "print(\"ターゲットに入射する信号強度={:6.1f} +/- {:6.1f} [Bq]\".format(B,dB))\n",
        "print(\"ターゲットから線源までの見込み角={:10.3e} [sr]\".format(dOmega_TtoS))\n",
        "print(\"Al厚さdx={:10.2f} +/- {:10.2f} [um]\".format(dxAl,dRAl))\n",
        "print(\"Au厚さdx={:10.2f} +/- {:10.2f} [um]\".format(dxAu,dRAu))\n",
        "upperCh=int(par_Al[1]+par_Al[2]*3)#3sigma\n",
        "tcalib=60#sec\n",
        "print(upperCh)\n",
        "Bbg=np.sum(alpha_calib[:upperCh])/tcalib\n",
        "print(\"元の背景事象強度{:10.1f}[Bq]\".format(Bbg))\n",
        "print(\"\")\n",
        "\n",
        "#def TestStat(b,s,ds,obs)\n",
        "#    PDF=poisson.pmf(np.arange(obs*10), mu=b+s)\n",
        "#    poisson(b+s)\n",
        "\n",
        "#計画パラメタ\n",
        "theta=50\n",
        "t=3*24*60*60#sec\n",
        "Rcut=1/4000#背景事象を削減するレート\n",
        "\n",
        "print(\"測定時間{:10.0f}秒={:10.0f}分\".format(t,t/60))\n",
        "Nbg=t*Bbg*Rcut\n",
        "print(\"推定背景事象数{:10.0f}\".format(Nbg))\n",
        "#PDF=poisson.pmf(np.arange(Nbg*5), mu=Nbg)\n",
        "\n",
        "\n",
        "#計算用パラメタ\n",
        "z = 2  # alpha は4He 2+\n",
        "ZAl = 13  # Alの陽子数は13\n",
        "ZAu = 79  # Auの陽子数は79\n",
        "hbarc = 197.3\n",
        "alpha = 1/137.\n",
        "e2 = hbarc*alpha\n",
        "E = 4.5\n",
        "\n",
        "NA=6.02e23\n",
        "Al_weight=26.98\n",
        "Au_weight=196.97\n",
        "\n",
        "#Al密度計算\n",
        "NAl=dxAl*1e-4*2.69*NA/Al_weight #dxAl[cm]*2.69[g/cm^3]*NA[count/mol]/weight[g/mol]\n",
        "dNAl=dRAl*1e-4*2.69*NA/Al_weight\n",
        "print(\"単位面積当たりアルミニウム原子数={:10.1e} [1/cm^2]={:10.1e} [1/fm^2]\".format(NAl,NAl*1e-26))\n",
        "#Au密度計算\n",
        "NAu=dxAu*1e-4*19.3*NA/Au_weight\n",
        "dNAu=dRAu*1e-4*19.3*NA/Au_weight\n",
        "print(\"単位面積当たり金原子数={:10.1e} [1/cm^2]={:10.1e} [1/fm^2]\".format(NAu,NAu*1e-26))\n",
        "print(\"\")\n",
        "\n",
        "#Al散乱確率計算\n",
        "AAl = (z*ZAl*e2/4/E)**2\n",
        "dsigmadOmegaAl=AAl*(np.sin(np.radians(theta)/2))**-4\n",
        "print(\"dsigma/dOmega(Al)={:10.1e}[fm^2/sr]\".format(dsigmadOmegaAl))\n",
        "\n",
        "N_expectedAl=B*t*NAl*1e-26*dsigmadOmegaAl*dOmega_TtoS\n",
        "dN_expectedAl=B*t*NAl*1e-26*dsigmadOmegaAl*dOmega_TtoS*np.sqrt((dB/B)**2+(1/np.sqrt(NAl)**2)+(dNAl/NAl)**2)\n",
        "print(\"推定測定回数(Al)={:10.1e}+/-{:10.1e}\".format(N_expectedAl,dN_expectedAl))\n",
        "#print(np.sum(PDF[int(N_expectedAl):]),norm.ppf(1-np.sum(PDF[int(N_expectedAl):])))\n",
        "print(\"\")\n",
        "\n",
        "#Au散乱確率計算\n",
        "AAu = (z*ZAu*e2/4/E)**2\n",
        "dsigmadOmegaAu=AAu*(np.sin(np.radians(theta)/2))**-4\n",
        "print(\"dsigma/dOmega(Au)={:10.1e}[fm^2/sr]\".format(dsigmadOmegaAu))\n",
        "\n",
        "N_expectedAu=B*t*NAu*1e-26*dsigmadOmegaAu*dOmega_TtoS\n",
        "dN_expectedAu=B*t*NAu*1e-26*dsigmadOmegaAu*dOmega_TtoS*np.sqrt((dB/B)**2+(1/np.sqrt(NAu)**2)+(dNAu/NAu)**2)\n",
        "print(\"推定測定回数(Au)={:10.1e}+/-{:10.1e}\".format(N_expectedAu,dN_expectedAu))\n"
      ],
      "metadata": {
        "colab": {
          "base_uri": "https://localhost:8080/"
        },
        "id": "MfQFpFC2JYol",
        "outputId": "28422d92-9ddf-4714-e05f-5e54b8fbfa98"
      },
      "execution_count": 113,
      "outputs": [
        {
          "output_type": "stream",
          "name": "stdout",
          "text": [
            "<測定された数値>\n",
            "ターゲットに入射する信号強度=1191.8 +/-    9.9 [Bq]\n",
            "ターゲットから線源までの見込み角= 8.319e-03 [sr]\n",
            "Al厚さdx=     12.14 +/-       0.50 [um]\n",
            "Au厚さdx=      0.68 +/-       0.21 [um]\n",
            "422\n",
            "元の背景事象強度       2.2[Bq]\n",
            "\n",
            "測定時間    259200秒=      4320分\n",
            "推定背景事象数       146\n",
            "単位面積当たりアルミニウム原子数=   7.3e+19 [1/cm^2]=   7.3e-07 [1/fm^2]\n",
            "単位面積当たり金原子数=   4.0e+18 [1/cm^2]=   4.0e-08 [1/fm^2]\n",
            "\n",
            "dsigma/dOmega(Al)=   1.4e+02[fm^2/sr]\n",
            "推定測定回数(Al)=   2.5e+02+/-   1.1e+01\n",
            "\n",
            "dsigma/dOmega(Au)=   5.0e+03[fm^2/sr]\n",
            "推定測定回数(Au)=   5.2e+02+/-   1.6e+02\n"
          ]
        }
      ]
    }
  ]
}